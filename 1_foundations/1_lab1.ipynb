{
 "cells": [
  {
   "cell_type": "markdown",
   "metadata": {},
   "source": [
    "# Welcome to the start of your adventure in Agentic AI"
   ]
  },
  {
   "cell_type": "markdown",
   "metadata": {},
   "source": [
    "<table style=\"margin: 0; text-align: left; width:100%\">\n",
    "    <tr>\n",
    "        <td style=\"width: 150px; height: 150px; vertical-align: middle;\">\n",
    "            <img src=\"../assets/stop.png\" width=\"150\" height=\"150\" style=\"display: block;\" />\n",
    "        </td>\n",
    "        <td>\n",
    "            <h2 style=\"color:#ff7800;\">Are you ready for action??</h2>\n",
    "            <span style=\"color:#ff7800;\">Have you completed all the setup steps in the <a href=\"../setup/\">setup</a> folder?<br/>\n",
    "            Have you checked out the guides in the <a href=\"../guides/01_intro.ipynb\">guides</a> folder?<br/>\n",
    "            Well in that case, you're ready!!\n",
    "            </span>\n",
    "        </td>\n",
    "    </tr>\n",
    "</table>"
   ]
  },
  {
   "cell_type": "markdown",
   "metadata": {},
   "source": [
    "<table style=\"margin: 0; text-align: left; width:100%\">\n",
    "    <tr>\n",
    "        <td style=\"width: 150px; height: 150px; vertical-align: middle;\">\n",
    "            <img src=\"../assets/tools.png\" width=\"150\" height=\"150\" style=\"display: block;\" />\n",
    "        </td>\n",
    "        <td>\n",
    "            <h2 style=\"color:#00bfff;\">This code is a live resource - keep an eye out for my updates</h2>\n",
    "            <span style=\"color:#00bfff;\">I push updates regularly. As people ask questions or have problems, I add more examples and improve explanations. As a result, the code below might not be identical to the videos, as I've added more steps and better comments. Consider this like an interactive book that accompanies the lectures.<br/><br/>\n",
    "            I try to send emails regularly with important updates related to the course. You can find this in the 'Announcements' section of Udemy in the left sidebar. You can also choose to receive my emails via your Notification Settings in Udemy. I'm respectful of your inbox and always try to add value with my emails!\n",
    "            </span>\n",
    "        </td>\n",
    "    </tr>\n",
    "</table>"
   ]
  },
  {
   "cell_type": "markdown",
   "metadata": {},
   "source": [
    "### And please do remember to contact me if I can help\n",
    "\n",
    "And I love to connect: https://www.linkedin.com/in/eddonner/\n",
    "\n",
    "\n",
    "### New to Notebooks like this one? Head over to the guides folder!\n",
    "\n",
    "Just to check you've already added the Python and Jupyter extensions to Cursor, if not already installed:\n",
    "- Open extensions (View >> extensions)\n",
    "- Search for python, and when the results show, click on the ms-python one, and Install it if not already installed\n",
    "- Search for jupyter, and when the results show, click on the Microsoft one, and Install it if not already installed  \n",
    "Then View >> Explorer to bring back the File Explorer.\n",
    "\n",
    "And then:\n",
    "1. Click where it says \"Select Kernel\" near the top right, and select the option called `.venv (Python 3.12.9)` or similar, which should be the first choice or the most prominent choice. You may need to choose \"Python Environments\" first.\n",
    "2. Click in each \"cell\" below, starting with the cell immediately below this text, and press Shift+Enter to run\n",
    "3. Enjoy!\n",
    "\n",
    "After you click \"Select Kernel\", if there is no option like `.venv (Python 3.12.9)` then please do the following:  \n",
    "1. On Mac: From the Cursor menu, choose Settings >> VS Code Settings (NOTE: be sure to select `VSCode Settings` not `Cursor Settings`);  \n",
    "On Windows PC: From the File menu, choose Preferences >> VS Code Settings(NOTE: be sure to select `VSCode Settings` not `Cursor Settings`)  \n",
    "2. In the Settings search bar, type \"venv\"  \n",
    "3. In the field \"Path to folder with a list of Virtual Environments\" put the path to the project root, like C:\\Users\\username\\projects\\agents (on a Windows PC) or /Users/username/projects/agents (on Mac or Linux).  \n",
    "And then try again.\n",
    "\n",
    "Having problems with missing Python versions in that list? Have you ever used Anaconda before? It might be interferring. Quit Cursor, bring up a new command line, and make sure that your Anaconda environment is deactivated:    \n",
    "`conda deactivate`  \n",
    "And if you still have any problems with conda and python versions, it's possible that you will need to run this too:  \n",
    "`conda config --set auto_activate_base false`  \n",
    "and then from within the Agents directory, you should be able to run `uv python list` and see the Python 3.12 version."
   ]
  },
  {
   "cell_type": "code",
   "execution_count": 1,
   "metadata": {},
   "outputs": [],
   "source": [
    "# First let's do an import\n",
    "from dotenv import load_dotenv\n"
   ]
  },
  {
   "cell_type": "code",
   "execution_count": 2,
   "metadata": {},
   "outputs": [
    {
     "data": {
      "text/plain": [
       "True"
      ]
     },
     "execution_count": 2,
     "metadata": {},
     "output_type": "execute_result"
    }
   ],
   "source": [
    "# Next it's time to load the API keys into environment variables\n",
    "\n",
    "load_dotenv(override=True)"
   ]
  },
  {
   "cell_type": "code",
   "execution_count": 3,
   "metadata": {},
   "outputs": [
    {
     "name": "stdout",
     "output_type": "stream",
     "text": [
      "OpenAI API Key exists and begins sk-proj-\n"
     ]
    }
   ],
   "source": [
    "# Check the keys\n",
    "\n",
    "import os\n",
    "openai_api_key = os.getenv('OPENAI_API_KEY')\n",
    "\n",
    "if openai_api_key:\n",
    "    print(f\"OpenAI API Key exists and begins {openai_api_key[:8]}\")\n",
    "else:\n",
    "    print(\"OpenAI API Key not set - please head to the troubleshooting guide in the setup folder\")\n",
    "    \n"
   ]
  },
  {
   "cell_type": "code",
   "execution_count": 4,
   "metadata": {},
   "outputs": [],
   "source": [
    "# And now - the all important import statement\n",
    "# If you get an import error - head over to troubleshooting guide\n",
    "\n",
    "from openai import OpenAI"
   ]
  },
  {
   "cell_type": "code",
   "execution_count": 5,
   "metadata": {},
   "outputs": [],
   "source": [
    "# And now we'll create an instance of the OpenAI class\n",
    "# If you're not sure what it means to create an instance of a class - head over to the guides folder!\n",
    "# If you get a NameError - head over to the guides folder to learn about NameErrors\n",
    "\n",
    "openai = OpenAI()"
   ]
  },
  {
   "cell_type": "code",
   "execution_count": 6,
   "metadata": {},
   "outputs": [],
   "source": [
    "# Create a list of messages in the familiar OpenAI format\n",
    "\n",
    "messages = [{\"role\": \"user\", \"content\": \"What is 2+2?\"}]"
   ]
  },
  {
   "cell_type": "code",
   "execution_count": 7,
   "metadata": {},
   "outputs": [
    {
     "name": "stdout",
     "output_type": "stream",
     "text": [
      "2 + 2 equals 4.\n"
     ]
    }
   ],
   "source": [
    "# And now call it! Any problems, head to the troubleshooting guide\n",
    "# This uses GPT 4.1 nano, the incredibly cheap model\n",
    "\n",
    "response = openai.chat.completions.create(\n",
    "    model=\"gpt-4.1-nano\",\n",
    "    messages=messages\n",
    ")\n",
    "\n",
    "print(response.choices[0].message.content)\n"
   ]
  },
  {
   "cell_type": "code",
   "execution_count": 8,
   "metadata": {},
   "outputs": [],
   "source": [
    "# And now - let's ask for a question:\n",
    "\n",
    "question = \"Please propose a hard, challenging question to assess someone's IQ. Respond only with the question.\"\n",
    "messages = [{\"role\": \"user\", \"content\": question}]\n"
   ]
  },
  {
   "cell_type": "code",
   "execution_count": 9,
   "metadata": {},
   "outputs": [
    {
     "name": "stdout",
     "output_type": "stream",
     "text": [
      "If two cars start from the same point and travel in opposite directions, one heading north at 60 mph and the other east at 80 mph, how far apart will they be after 3 hours? Now, if the car traveling north suddenly doubles its speed, and the eastbound car halves its speed after the first hour, what will their distance apart be after 3 hours?\n"
     ]
    }
   ],
   "source": [
    "# ask it - this uses GPT 4.1 mini, still cheap but more powerful than nano\n",
    "\n",
    "response = openai.chat.completions.create(\n",
    "    model=\"gpt-4.1-mini\",\n",
    "    messages=messages\n",
    ")\n",
    "\n",
    "question = response.choices[0].message.content\n",
    "\n",
    "print(question)\n"
   ]
  },
  {
   "cell_type": "code",
   "execution_count": 10,
   "metadata": {},
   "outputs": [],
   "source": [
    "# form a new messages list\n",
    "messages = [{\"role\": \"user\", \"content\": question}]\n"
   ]
  },
  {
   "cell_type": "code",
   "execution_count": 11,
   "metadata": {},
   "outputs": [
    {
     "name": "stdout",
     "output_type": "stream",
     "text": [
      "Let's analyze each part step-by-step.\n",
      "\n",
      "---\n",
      "\n",
      "### Part 1: Both maintain initial speeds\n",
      "\n",
      "- Car 1: Traveling North at 60 mph\n",
      "- Car 2: Traveling East at 80 mph\n",
      "- Time: 3 hours\n",
      "\n",
      "**Step 1:** Find the distance each car travels after 3 hours.\n",
      "- Distance car 1 travels = \\(60 \\text{ mph} \\times 3 \\text{ hrs} = 180 \\text{ miles}\\)\n",
      "- Distance car 2 travels = \\(80 \\text{ mph} \\times 3 \\text{ hrs} = 240 \\text{ miles}\\)\n",
      "\n",
      "**Step 2:** Since cars are moving in perpendicular directions, the distance between them (straight line) is given by the Pythagorean theorem:\n",
      "\\[\n",
      "d = \\sqrt{(180)^2 + (240)^2} = \\sqrt{32400 + 57600} = \\sqrt{90000} = 300 \\text{ miles}\n",
      "\\]\n",
      "\n",
      "---\n",
      "\n",
      "### Part 2: Speed changes after the first hour\n",
      "\n",
      "**Details:**\n",
      "\n",
      "- Car 1 (North):\n",
      "  - Initial speed: 60 mph for first hour\n",
      "  - After first hour, speed doubles to \\(60 \\times 2 = 120\\) mph\n",
      "- Car 2 (East):\n",
      "  - Initial speed: 80 mph for first hour\n",
      "  - After first hour, speed halves to \\(80 \\div 2 = 40\\) mph\n",
      "- Total time: 3 hours\n",
      "\n",
      "---\n",
      "\n",
      "**Step 1:** Calculate distances traveled after 1 hour.\n",
      "\n",
      "- Car 1 (after hour 1): \\(60 \\times 1 = 60\\) miles north\n",
      "- Car 2 (after hour 1): \\(80 \\times 1 = 80\\) miles east\n",
      "\n",
      "---\n",
      "\n",
      "**Step 2:** Calculate remaining time (2 hours) distances after speed change.\n",
      "\n",
      "- Car 1 (next 2 hours at 120 mph): \\(120 \\times 2 = 240\\) miles north\n",
      "- Car 2 (next 2 hours at 40 mph): \\(40 \\times 2 = 80\\) miles east\n",
      "\n",
      "---\n",
      "\n",
      "**Step 3:** Total distances traveled after 3 hours.\n",
      "\n",
      "- Car 1 total distance north \\(= 60 + 240 = 300\\) miles\n",
      "- Car 2 total distance east \\(= 80 + 80 = 160\\) miles\n",
      "\n",
      "---\n",
      "\n",
      "**Step 4:** Calculate new distance apart using Pythagorean theorem:\n",
      "\\[\n",
      "d = \\sqrt{(300)^2 + (160)^2} = \\sqrt{90000 + 25600} = \\sqrt{115600} \\approx 340.1 \\text{ miles}\n",
      "\\]\n",
      "\n",
      "---\n",
      "\n",
      "### **Final answers:**\n",
      "\n",
      "- Distance apart after 3 hours if speeds remain constant: **300 miles**\n",
      "- Distance apart after 3 hours with speed changes: **Approximately 340.1 miles**\n"
     ]
    }
   ],
   "source": [
    "# Ask it again\n",
    "\n",
    "response = openai.chat.completions.create(\n",
    "    model=\"gpt-4.1-mini\",\n",
    "    messages=messages\n",
    ")\n",
    "\n",
    "answer = response.choices[0].message.content\n",
    "print(answer)\n"
   ]
  },
  {
   "cell_type": "code",
   "execution_count": 12,
   "metadata": {},
   "outputs": [
    {
     "data": {
      "text/markdown": [
       "Let's analyze each part step-by-step.\n",
       "\n",
       "---\n",
       "\n",
       "### Part 1: Both maintain initial speeds\n",
       "\n",
       "- Car 1: Traveling North at 60 mph\n",
       "- Car 2: Traveling East at 80 mph\n",
       "- Time: 3 hours\n",
       "\n",
       "**Step 1:** Find the distance each car travels after 3 hours.\n",
       "- Distance car 1 travels = \\(60 \\text{ mph} \\times 3 \\text{ hrs} = 180 \\text{ miles}\\)\n",
       "- Distance car 2 travels = \\(80 \\text{ mph} \\times 3 \\text{ hrs} = 240 \\text{ miles}\\)\n",
       "\n",
       "**Step 2:** Since cars are moving in perpendicular directions, the distance between them (straight line) is given by the Pythagorean theorem:\n",
       "\\[\n",
       "d = \\sqrt{(180)^2 + (240)^2} = \\sqrt{32400 + 57600} = \\sqrt{90000} = 300 \\text{ miles}\n",
       "\\]\n",
       "\n",
       "---\n",
       "\n",
       "### Part 2: Speed changes after the first hour\n",
       "\n",
       "**Details:**\n",
       "\n",
       "- Car 1 (North):\n",
       "  - Initial speed: 60 mph for first hour\n",
       "  - After first hour, speed doubles to \\(60 \\times 2 = 120\\) mph\n",
       "- Car 2 (East):\n",
       "  - Initial speed: 80 mph for first hour\n",
       "  - After first hour, speed halves to \\(80 \\div 2 = 40\\) mph\n",
       "- Total time: 3 hours\n",
       "\n",
       "---\n",
       "\n",
       "**Step 1:** Calculate distances traveled after 1 hour.\n",
       "\n",
       "- Car 1 (after hour 1): \\(60 \\times 1 = 60\\) miles north\n",
       "- Car 2 (after hour 1): \\(80 \\times 1 = 80\\) miles east\n",
       "\n",
       "---\n",
       "\n",
       "**Step 2:** Calculate remaining time (2 hours) distances after speed change.\n",
       "\n",
       "- Car 1 (next 2 hours at 120 mph): \\(120 \\times 2 = 240\\) miles north\n",
       "- Car 2 (next 2 hours at 40 mph): \\(40 \\times 2 = 80\\) miles east\n",
       "\n",
       "---\n",
       "\n",
       "**Step 3:** Total distances traveled after 3 hours.\n",
       "\n",
       "- Car 1 total distance north \\(= 60 + 240 = 300\\) miles\n",
       "- Car 2 total distance east \\(= 80 + 80 = 160\\) miles\n",
       "\n",
       "---\n",
       "\n",
       "**Step 4:** Calculate new distance apart using Pythagorean theorem:\n",
       "\\[\n",
       "d = \\sqrt{(300)^2 + (160)^2} = \\sqrt{90000 + 25600} = \\sqrt{115600} \\approx 340.1 \\text{ miles}\n",
       "\\]\n",
       "\n",
       "---\n",
       "\n",
       "### **Final answers:**\n",
       "\n",
       "- Distance apart after 3 hours if speeds remain constant: **300 miles**\n",
       "- Distance apart after 3 hours with speed changes: **Approximately 340.1 miles**"
      ],
      "text/plain": [
       "<IPython.core.display.Markdown object>"
      ]
     },
     "metadata": {},
     "output_type": "display_data"
    }
   ],
   "source": [
    "from IPython.display import Markdown, display\n",
    "\n",
    "display(Markdown(answer))\n",
    "\n"
   ]
  },
  {
   "cell_type": "markdown",
   "metadata": {},
   "source": [
    "# Congratulations!\n",
    "\n",
    "That was a small, simple step in the direction of Agentic AI, with your new environment!\n",
    "\n",
    "Next time things get more interesting..."
   ]
  },
  {
   "cell_type": "markdown",
   "metadata": {},
   "source": [
    "<table style=\"margin: 0; text-align: left; width:100%\">\n",
    "    <tr>\n",
    "        <td style=\"width: 150px; height: 150px; vertical-align: middle;\">\n",
    "            <img src=\"../assets/exercise.png\" width=\"150\" height=\"150\" style=\"display: block;\" />\n",
    "        </td>\n",
    "        <td>\n",
    "            <h2 style=\"color:#ff7800;\">Exercise</h2>\n",
    "            <span style=\"color:#ff7800;\">Now try this commercial application:<br/>\n",
    "            First ask the LLM to pick a business area that might be worth exploring for an Agentic AI opportunity.<br/>\n",
    "            Then ask the LLM to present a pain-point in that industry - something challenging that might be ripe for an Agentic solution.<br/>\n",
    "            Finally have 3 third LLM call propose the Agentic AI solution.\n",
    "            </span>\n",
    "        </td>\n",
    "    </tr>\n",
    "</table>"
   ]
  },
  {
   "cell_type": "code",
   "execution_count": 13,
   "metadata": {},
   "outputs": [
    {
     "data": {
      "text/markdown": [
       "To effectively address the outlined pain points in personalized healthcare using Agentic AI, the proposed solution is a comprehensive **AI-Driven Personalized Health Ecosystem (AI-PHE)**. This ecosystem combines various AI technologies, including natural language processing, machine learning, and data integration, to dynamically adapt to and address the evolving needs of patients and healthcare providers.\n",
       "\n",
       "### 1. **Unified Data Platform**\n",
       "   - **Function**: Integrate data from electronic health records (EHRs), wearables, labs, and patient-reported outcomes into a single, comprehensive data repository.\n",
       "   - **Agents**: Utilize AI agents to clean, standardize, and centralize this data, creating a unified patient profile accessible to both patients and providers.\n",
       "   - **Outcome**: Eliminate data silos and provide healthcare providers with a 360-degree view of patient health, improving decision-making and care coordination.\n",
       "\n",
       "### 2. **Intelligent Virtual Health Assistant**\n",
       "   - **Function**: Develop an AI-powered virtual health assistant that engages patients through personalized messaging, reminders, and educational content.\n",
       "   - **Agents**: Use natural language processing to enable conversational interactions, helping patients understand their treatment plans and addressing any concerns.\n",
       "   - **Outcome**: Enhance patient engagement and adherence to treatment by providing ongoing support tailored to individual patient needs and preferences.\n",
       "\n",
       "### 3. **Smart Information Filtering for Providers**\n",
       "   - **Function**: Deploy AI algorithms to analyze vast amounts of clinical data and prioritize critical insights relevant to each patient's care.\n",
       "   - **Agents**: Employ machine learning models to continuously learn from provider behaviors and preferences, ensuring that the information presented aligns with their decision-making patterns.\n",
       "   - **Outcome**: Reduce information overload and streamline clinical workflows, leading to more efficient and informed care delivery.\n",
       "\n",
       "### 4. **Clinical Decision Support System (CDSS)**\n",
       "   - **Function**: Implement an AI-based CDSS that standardizes clinical guidelines and evidence-based practices across various conditions.\n",
       "   - **Agents**: Integrate real-time data inputs from the unified data platform to provide actionable recommendations tailored to each patient's unique profile.\n",
       "   - **Outcome**: Minimize variability in care quality, ensuring all patients receive optimal treatment based on the latest evidence.\n",
       "\n",
       "### 5. **Real-time Predictive Risk Assessment**\n",
       "   - **Function**: Incorporate predictive analytics into the workflow to identify patients at risk of adverse events or complications.\n",
       "   - **Agents**: Use advanced machine learning algorithms to analyze historical and real-time data, generating alerts for healthcare providers to intervene proactively.\n",
       "   - **Outcome**: Enhance patient safety and enable early interventions, ultimately improving long-term health outcomes.\n",
       "\n",
       "### 6. **Chronic Disease Management Portal**\n",
       "   - **Function**: Create a dedicated portal for chronic disease management, integrating data from various monitoring devices and enabling direct communication between patients and providers.\n",
       "   - **Agents**: Use AI to track patient data in real-time, identifying trends and potential issues that require attention.\n",
       "   - **Outcome**: Foster a collaborative and responsive care environment for chronic disease management, reducing hospitalizations and improving patients’ quality of life.\n",
       "\n",
       "### 7. **Telemedicine Capabilities**\n",
       "   - **Function**: Provide a virtual platform that connects patients with healthcare providers, particularly for underserved populations.\n",
       "   - **Agents**: Utilize AI to facilitate remote consultations, follow-ups, and ongoing care management through telemedicine solutions.\n",
       "   - **Outcome**: Increase access to personalized healthcare services, regardless of geographic or socioeconomic barriers.\n",
       "\n",
       "### 8. **Cost Optimization Tools**\n",
       "   - **Function**: Implement AI-driven tools that analyze treatment pathways and resource allocations to identify inefficiencies and recommending cost-effective alternatives.\n",
       "   - **Agents**: Train machine learning models to simulate different treatment scenarios, allowing providers to visualize potential cost impacts.\n",
       "   - **Outcome**: Optimize healthcare spending while maintaining or improving the quality of care, benefitting both patients and healthcare providers.\n",
       "\n",
       "### Conclusion:\n",
       "The **AI-Driven Personalized Health Ecosystem (AI-PHE)** addresses the critical pain points in personalized healthcare by utilizing Agentic AI solutions. By unifying data, engaging patients, supporting providers, and ensuring equitable access, this ecosystem can significantly enhance healthcare delivery, improve outcomes, and drive operational efficiencies. Through continuous learning and adaptation, the AI-PHE will evolve alongside healthcare practices, ensuring its effectiveness in a rapidly changing landscape."
      ],
      "text/plain": [
       "<IPython.core.display.Markdown object>"
      ]
     },
     "metadata": {},
     "output_type": "display_data"
    }
   ],
   "source": [
    "# First create the messages:\n",
    "\n",
    "messages = [{\"role\": \"user\", \"content\": \"Pick a business area that might be worth exploring for an Agentic AI opportunity.\"}]\n",
    "\n",
    "# Then make the first call:\n",
    "\n",
    "response = openai.chat.completions.create(\n",
    "    model=\"gpt-4o-mini\",\n",
    "    messages=messages\n",
    ")\n",
    "\n",
    "# Then read the business idea:\n",
    "\n",
    "business_idea = response.choices[0].message.content\n",
    "\n",
    "# And repeat!   \n",
    "messages = [{\"role\": \"user\", \"content\": f\"{business_idea}, What is the pain point in this industry, that might be ripe for an Agentic solution?\"}]\n",
    "\n",
    "response = openai.chat.completions.create(\n",
    "    model=\"gpt-4o-mini\",\n",
    "    messages=messages\n",
    ")\n",
    "pain_point = response.choices[0].message.content\n",
    "\n",
    "# And repeat!\n",
    "messages = [{\"role\": \"user\", \"content\": f\"{pain_point}, Propose the Agentic AI solution.\"}]\n",
    "\n",
    "response = openai.chat.completions.create(\n",
    "    model=\"gpt-4o-mini\",\n",
    "    messages=messages\n",
    ")\n",
    "agentic_solution = response.choices[0].message.content\n",
    "\n",
    "# And repeat!\n",
    "display(Markdown(agentic_solution))\n"
   ]
  },
  {
   "cell_type": "markdown",
   "metadata": {},
   "source": []
  }
 ],
 "metadata": {
  "kernelspec": {
   "display_name": ".venv",
   "language": "python",
   "name": "python3"
  },
  "language_info": {
   "codemirror_mode": {
    "name": "ipython",
    "version": 3
   },
   "file_extension": ".py",
   "mimetype": "text/x-python",
   "name": "python",
   "nbconvert_exporter": "python",
   "pygments_lexer": "ipython3",
   "version": "3.12.10"
  }
 },
 "nbformat": 4,
 "nbformat_minor": 2
}
