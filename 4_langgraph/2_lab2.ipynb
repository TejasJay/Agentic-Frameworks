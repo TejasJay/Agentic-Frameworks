{
 "cells": [
  {
   "cell_type": "markdown",
   "metadata": {},
   "source": [
    "### And welcome to Week 4, Day 3 - more LangGraph.."
   ]
  },
  {
   "cell_type": "code",
   "execution_count": 1,
   "metadata": {},
   "outputs": [],
   "source": [
    "from typing import Annotated\n",
    "from langgraph.graph import StateGraph, START, END\n",
    "from langgraph.graph.message import add_messages\n",
    "from dotenv import load_dotenv\n",
    "from IPython.display import Image, display\n",
    "import gradio as gr\n",
    "from langgraph.graph import StateGraph\n",
    "from langgraph.graph.message import add_messages\n",
    "from langgraph.prebuilt import ToolNode, tools_condition\n",
    "import requests\n",
    "import os\n",
    "from langchain_openai import ChatOpenAI\n",
    "from typing import TypedDict\n"
   ]
  },
  {
   "cell_type": "code",
   "execution_count": 11,
   "metadata": {},
   "outputs": [
    {
     "data": {
      "text/plain": [
       "True"
      ]
     },
     "execution_count": 11,
     "metadata": {},
     "output_type": "execute_result"
    }
   ],
   "source": [
    "# Our favorite first step! Crew was doing this for us, by the way.\n",
    "load_dotenv(override=True)\n"
   ]
  },
  {
   "cell_type": "markdown",
   "metadata": {},
   "source": [
    "### First, let's go set up LangSmith!\n",
    "\n",
    "https://langsmith.com"
   ]
  },
  {
   "cell_type": "markdown",
   "metadata": {},
   "source": [
    "### Next, here is a useful function in LangChain community:"
   ]
  },
  {
   "cell_type": "code",
   "execution_count": 4,
   "metadata": {},
   "outputs": [
    {
     "data": {
      "text/plain": [
       "\"Paris is the capital and largest city of France. With an estimated population of 2,048,472 residents in January 2025 in an area of more than 105 km2 (41 sq ... Paris is the capital and most populous city of France. Situated on the Seine River, in the north of the country, it is in the centre of the Île-de-France ... Paris is the capital of France, the largest country of Europe with 550 000 km2 (65 millions inhabitants). Paris has 2.234 million inhabitants end 2011. Paris, city and capital of France, located along the Seine River, in the north-central part of the country. Paris is one of the world's most important and ... The capital of France has been Paris since its liberation in 1944. Paris is the city of romance par excellence, the fashion capital and the best example of French art de vivre. Exploring Paris is an essential rite of passage ... The capital and by far the most important city of France is Paris, one of the world's preeminent cultural and commercial centres. Paris Capital City Of France In 4K Ultra HD Video | Paris, France Capital And Largest City | Paris Is A Major European City And A Global ... What Is the Capital of France? Paris. The very name brings to mind tree-lined boulevards, grand monuments, sidewalk cafes, and so much more. Paris became capital of France because France evolved from a federation of counties to a kingdom, where the king was living a Paris. The ...\""
      ]
     },
     "execution_count": 4,
     "metadata": {},
     "output_type": "execute_result"
    }
   ],
   "source": [
    "from langchain_community.utilities import GoogleSerperAPIWrapper\n",
    "\n",
    "serper = GoogleSerperAPIWrapper()\n",
    "serper.run(\"What is the capital of France?\")"
   ]
  },
  {
   "cell_type": "markdown",
   "metadata": {},
   "source": [
    "### Now here is a LangChain wrapper class for converting functions into Tools"
   ]
  },
  {
   "cell_type": "code",
   "execution_count": 5,
   "metadata": {},
   "outputs": [],
   "source": [
    "from langchain.agents import Tool\n",
    "\n",
    "tool_search =Tool(\n",
    "        name=\"search\",\n",
    "        func=serper.run,\n",
    "        description=\"Useful for when you need more information from an online search\"\n",
    "    )\n",
    "\n"
   ]
  },
  {
   "cell_type": "markdown",
   "metadata": {},
   "source": [
    "### Now we can try out the tool the langchain way"
   ]
  },
  {
   "cell_type": "code",
   "execution_count": 6,
   "metadata": {},
   "outputs": [
    {
     "data": {
      "text/plain": [
       "\"Paris is the capital and largest city of France. With an estimated population of 2,048,472 residents in January 2025 in an area of more than 105 km2 (41 sq ... Paris is the capital and most populous city of France. Situated on the Seine River, in the north of the country, it is in the centre of the Île-de-France ... Paris is the capital of France, the largest country of Europe with 550 000 km2 (65 millions inhabitants). Paris has 2.234 million inhabitants end 2011. Paris, city and capital of France, located along the Seine River, in the north-central part of the country. Paris is one of the world's most important and ... The capital of France has been Paris since its liberation in 1944. Paris is the city of romance par excellence, the fashion capital and the best example of French art de vivre. Exploring Paris is an essential rite of passage ... The capital and by far the most important city of France is Paris, one of the world's preeminent cultural and commercial centres. Paris Capital City Of France In 4K Ultra HD Video | Paris, France Capital And Largest City | Paris Is A Major European City And A Global ... Paris became capital of France because France evolved from a federation of counties to a kingdom, where the king was living a Paris. The ... What Is the Capital of France? Paris. The very name brings to mind tree-lined boulevards, grand monuments, sidewalk cafes, and so much more.\""
      ]
     },
     "execution_count": 6,
     "metadata": {},
     "output_type": "execute_result"
    }
   ],
   "source": [
    "tool_search.invoke(\"What is the capital of France?\")"
   ]
  },
  {
   "cell_type": "markdown",
   "metadata": {},
   "source": [
    "### And now let's write a tool ourselves\n",
    "\n",
    "We'll pick a familiar one"
   ]
  },
  {
   "cell_type": "code",
   "execution_count": 7,
   "metadata": {},
   "outputs": [],
   "source": [
    "pushover_token = os.getenv(\"PUSHOVER_TOKEN\")\n",
    "pushover_user = os.getenv(\"PUSHOVER_USER\")\n",
    "pushover_url = \"https://api.pushover.net/1/messages.json\"\n",
    "\n",
    "def push(text: str):\n",
    "    \"\"\"Send a push notification to the user\"\"\"\n",
    "    requests.post(pushover_url, data = {\"token\": pushover_token, \"user\": pushover_user, \"message\": text})"
   ]
  },
  {
   "cell_type": "code",
   "execution_count": 12,
   "metadata": {},
   "outputs": [],
   "source": [
    "tool_push = Tool(\n",
    "        name=\"send_push_notification\",\n",
    "        func=push,\n",
    "        description=\"useful for when you want to send a push notification\"\n",
    "    )\n",
    "\n",
    "tool_push.invoke(\"Hello, me\")"
   ]
  },
  {
   "cell_type": "markdown",
   "metadata": {},
   "source": [
    "### Back to the Graph from yesterday\n",
    "\n",
    "One small change - using TypedDict instead of BaseModel for the State object\n",
    "\n",
    "When we implement tools, we always need to make 2 changes to the code:\n",
    "\n",
    "1. Changes to provide the tools to OpenAI in json when we make the call\n",
    "\n",
    "2. Changes to handle the results back: look for the model staying that the finish_reason==\"tool_calls\" and then retrieve the call, run the function, provide the results."
   ]
  },
  {
   "cell_type": "markdown",
   "metadata": {},
   "source": [
    "### Bring them together"
   ]
  },
  {
   "cell_type": "code",
   "execution_count": 22,
   "metadata": {},
   "outputs": [],
   "source": [
    "tools = [tool_search, tool_push]"
   ]
  },
  {
   "cell_type": "code",
   "execution_count": 23,
   "metadata": {},
   "outputs": [],
   "source": [
    "# Step 1: Define the State object\n",
    "class State(TypedDict):\n",
    "    messages: Annotated[list, add_messages]"
   ]
  },
  {
   "cell_type": "code",
   "execution_count": 24,
   "metadata": {},
   "outputs": [],
   "source": [
    "# Step 2: Start the Graph Builder with this State class\n",
    "graph_builder = StateGraph(State)"
   ]
  },
  {
   "cell_type": "code",
   "execution_count": 25,
   "metadata": {},
   "outputs": [],
   "source": [
    "# This is different:\n",
    "\n",
    "llm = ChatOpenAI(model=\"gpt-4o-mini\")\n",
    "llm_with_tools = llm.bind_tools(tools)"
   ]
  },
  {
   "cell_type": "code",
   "execution_count": 26,
   "metadata": {},
   "outputs": [
    {
     "data": {
      "text/plain": [
       "<langgraph.graph.state.StateGraph at 0x13fc72fc0>"
      ]
     },
     "execution_count": 26,
     "metadata": {},
     "output_type": "execute_result"
    }
   ],
   "source": [
    "# Step 3: Create a Node\n",
    "\n",
    "\n",
    "def chatbot(state: State):\n",
    "    return {\"messages\": [llm_with_tools.invoke(state[\"messages\"])]}\n",
    "\n",
    "graph_builder.add_node(\"chatbot\", chatbot)\n",
    "graph_builder.add_node(\"tools\", ToolNode(tools=tools))"
   ]
  },
  {
   "cell_type": "code",
   "execution_count": 27,
   "metadata": {},
   "outputs": [
    {
     "data": {
      "text/plain": [
       "<langgraph.graph.state.StateGraph at 0x13fc72fc0>"
      ]
     },
     "execution_count": 27,
     "metadata": {},
     "output_type": "execute_result"
    }
   ],
   "source": [
    "# Step 4: Create Edges\n",
    "\n",
    "\n",
    "graph_builder.add_conditional_edges( \"chatbot\", tools_condition, \"tools\")\n",
    "\n",
    "# Any time a tool is called, we return to the chatbot to decide the next step\n",
    "graph_builder.add_edge(\"tools\", \"chatbot\")\n",
    "graph_builder.add_edge(START, \"chatbot\")\n",
    "graph_builder.add_edge(\"chatbot\", END)"
   ]
  },
  {
   "cell_type": "code",
   "execution_count": 28,
   "metadata": {},
   "outputs": [
    {
     "data": {
      "image/png": "[encoded data removed]",
      "text/plain": [
       "<IPython.core.display.Image object>"
      ]
     },
     "metadata": {},
     "output_type": "display_data"
    }
   ],
   "source": [
    "# Step 5: Compile the Graph\n",
    "graph = graph_builder.compile()\n",
    "display(Image(graph.get_graph().draw_mermaid_png()))"
   ]
  },
  {
   "cell_type": "markdown",
   "metadata": {},
   "source": [
    "### That's it! And, let's do this:"
   ]
  },
  {
   "cell_type": "code",
   "execution_count": 29,
   "metadata": {},
   "outputs": [
    {
     "name": "stdout",
     "output_type": "stream",
     "text": [
      "* Running on local URL:  http://127.0.0.1:7862\n",
      "* To create a public link, set `share=True` in `launch()`.\n"
     ]
    },
    {
     "data": {
      "text/html": [
       "<div><iframe src=\"http://127.0.0.1:7862/\" width=\"100%\" height=\"500\" allow=\"autoplay; camera; microphone; clipboard-read; clipboard-write;\" frameborder=\"0\" allowfullscreen></iframe></div>"
      ],
      "text/plain": [
       "<IPython.core.display.HTML object>"
      ]
     },
     "metadata": {},
     "output_type": "display_data"
    },
    {
     "data": {
      "text/plain": []
     },
     "execution_count": 29,
     "metadata": {},
     "output_type": "execute_result"
    }
   ],
   "source": [
    "def chat(user_input: str, history):\n",
    "    result = graph.invoke({\"messages\": [{\"role\": \"user\", \"content\": user_input}]})\n",
    "    return result[\"messages\"][-1].content\n",
    "\n",
    "\n",
    "gr.ChatInterface(chat, type=\"messages\").launch()"
   ]
  },
  {
   "cell_type": "markdown",
   "metadata": {},
   "source": [
    "## OK it's time to add Memory!\n",
    "\n",
    "### BUT WAIT!\n",
    "\n",
    "We have this whole Graph maintaining the state and appending to the state.\n",
    "\n",
    "Why isn't this handling memory?\n",
    "\n",
    "### This is a crucial point for understanding LangGraph\n",
    "\n",
    "> A super-step can be considered a single iteration over the graph nodes. Nodes that run in parallel are part of the same super-step, while nodes that run sequentially belong to separate super-steps.\n",
    "\n",
    "\n",
    "One \"Super-Step\" of the graph represents one invocation of passing messages between agents.\n",
    "\n",
    "In idomatic LangGraph, you call invoke to run your graph for each super-step; for each interaction.\n",
    "\n",
    "The reducer handles state updates automatically within one super-step, but not between them.\n",
    "\n",
    "That is what checkpointing achieves."
   ]
  },
  {
   "cell_type": "code",
   "execution_count": 30,
   "metadata": {},
   "outputs": [],
   "source": [
    "from langgraph.checkpoint.memory import MemorySaver\n",
    "\n",
    "memory = MemorySaver()"
   ]
  },
  {
   "cell_type": "code",
   "execution_count": 31,
   "metadata": {},
   "outputs": [
    {
     "data": {
      "image/png": "[encoded data removed]",
      "text/plain": [
       "<IPython.core.display.Image object>"
      ]
     },
     "metadata": {},
     "output_type": "display_data"
    }
   ],
   "source": [
    "# Steps 1 and 2\n",
    "graph_builder = StateGraph(State)\n",
    "\n",
    "\n",
    "# Step 3\n",
    "llm = ChatOpenAI(model=\"gpt-4o-mini\")\n",
    "llm_with_tools = llm.bind_tools(tools)\n",
    "\n",
    "def chatbot(state: State):\n",
    "    print(state)\n",
    "    return {\"messages\": [llm_with_tools.invoke(state[\"messages\"])]}\n",
    "\n",
    "graph_builder.add_node(\"chatbot\", chatbot)\n",
    "graph_builder.add_node(\"tools\", ToolNode(tools=tools))\n",
    "\n",
    "# Step 4\n",
    "graph_builder.add_conditional_edges( \"chatbot\", tools_condition, \"tools\")\n",
    "graph_builder.add_edge(\"tools\", \"chatbot\")\n",
    "graph_builder.add_edge(START, \"chatbot\")\n",
    "\n",
    "# Step 5\n",
    "graph = graph_builder.compile(checkpointer=memory)\n",
    "display(Image(graph.get_graph().draw_mermaid_png()))"
   ]
  },
  {
   "cell_type": "code",
   "execution_count": 32,
   "metadata": {},
   "outputs": [
    {
     "name": "stdout",
     "output_type": "stream",
     "text": [
      "* Running on local URL:  http://127.0.0.1:7863\n",
      "* To create a public link, set `share=True` in `launch()`.\n"
     ]
    },
    {
     "data": {
      "text/html": [
       "<div><iframe src=\"http://127.0.0.1:7863/\" width=\"100%\" height=\"500\" allow=\"autoplay; camera; microphone; clipboard-read; clipboard-write;\" frameborder=\"0\" allowfullscreen></iframe></div>"
      ],
      "text/plain": [
       "<IPython.core.display.HTML object>"
      ]
     },
     "metadata": {},
     "output_type": "display_data"
    },
    {
     "data": {
      "text/plain": []
     },
     "execution_count": 32,
     "metadata": {},
     "output_type": "execute_result"
    },
    {
     "name": "stdout",
     "output_type": "stream",
     "text": [
      "{'messages': [HumanMessage(content='hello', additional_kwargs={}, response_metadata={}, id='f061f8ba-99df-42a8-99f8-406f9272afc4')]}\n",
      "{'messages': [HumanMessage(content='hello', additional_kwargs={}, response_metadata={}, id='f061f8ba-99df-42a8-99f8-406f9272afc4'), AIMessage(content='Hello! How can I assist you today?', additional_kwargs={'refusal': None}, response_metadata={'token_usage': {'completion_tokens': 10, 'prompt_tokens': 89, 'total_tokens': 99, 'completion_tokens_details': {'accepted_prediction_tokens': 0, 'audio_tokens': 0, 'reasoning_tokens': 0, 'rejected_prediction_tokens': 0}, 'prompt_tokens_details': {'audio_tokens': 0, 'cached_tokens': 0}}, 'model_name': 'gpt-4o-mini-2024-07-18', 'system_fingerprint': 'fp_54eb4bd693', 'id': 'chatcmpl-BccU1kOSie7bwTFMyZzJ2yNrVUrhz', 'service_tier': 'default', 'finish_reason': 'stop', 'logprobs': None}, id='run--2ef36ffd-36a6-4a00-b741-18b76b00b79d-0', usage_metadata={'input_tokens': 89, 'output_tokens': 10, 'total_tokens': 99, 'input_token_details': {'audio': 0, 'cache_read': 0}, 'output_token_details': {'audio': 0, 'reasoning': 0}}), HumanMessage(content='my name is tej', additional_kwargs={}, response_metadata={}, id='ced6d433-fc76-4214-8f1b-0b5d0e8baf2b')]}\n",
      "{'messages': [HumanMessage(content='hello', additional_kwargs={}, response_metadata={}, id='f061f8ba-99df-42a8-99f8-406f9272afc4'), AIMessage(content='Hello! How can I assist you today?', additional_kwargs={'refusal': None}, response_metadata={'token_usage': {'completion_tokens': 10, 'prompt_tokens': 89, 'total_tokens': 99, 'completion_tokens_details': {'accepted_prediction_tokens': 0, 'audio_tokens': 0, 'reasoning_tokens': 0, 'rejected_prediction_tokens': 0}, 'prompt_tokens_details': {'audio_tokens': 0, 'cached_tokens': 0}}, 'model_name': 'gpt-4o-mini-2024-07-18', 'system_fingerprint': 'fp_54eb4bd693', 'id': 'chatcmpl-BccU1kOSie7bwTFMyZzJ2yNrVUrhz', 'service_tier': 'default', 'finish_reason': 'stop', 'logprobs': None}, id='run--2ef36ffd-36a6-4a00-b741-18b76b00b79d-0', usage_metadata={'input_tokens': 89, 'output_tokens': 10, 'total_tokens': 99, 'input_token_details': {'audio': 0, 'cache_read': 0}, 'output_token_details': {'audio': 0, 'reasoning': 0}}), HumanMessage(content='my name is tej', additional_kwargs={}, response_metadata={}, id='ced6d433-fc76-4214-8f1b-0b5d0e8baf2b'), AIMessage(content='Nice to meet you, Tej! How can I help you today?', additional_kwargs={'refusal': None}, response_metadata={'token_usage': {'completion_tokens': 16, 'prompt_tokens': 110, 'total_tokens': 126, 'completion_tokens_details': {'accepted_prediction_tokens': 0, 'audio_tokens': 0, 'reasoning_tokens': 0, 'rejected_prediction_tokens': 0}, 'prompt_tokens_details': {'audio_tokens': 0, 'cached_tokens': 0}}, 'model_name': 'gpt-4o-mini-2024-07-18', 'system_fingerprint': 'fp_54eb4bd693', 'id': 'chatcmpl-BccU8lvJ2zFLBJaM4quIiiayX26R1', 'service_tier': 'default', 'finish_reason': 'stop', 'logprobs': None}, id='run--ea9bbf5a-80d4-4d9f-b028-ce9d46f60f5e-0', usage_metadata={'input_tokens': 110, 'output_tokens': 16, 'total_tokens': 126, 'input_token_details': {'audio': 0, 'cache_read': 0}, 'output_token_details': {'audio': 0, 'reasoning': 0}}), HumanMessage(content=\"what's my name?\", additional_kwargs={}, response_metadata={}, id='402c5218-2858-457a-9c2c-a646009231b4')]}\n"
     ]
    }
   ],
   "source": [
    "config = {\"configurable\": {\"thread_id\": \"1\"}}\n",
    "\n",
    "def chat(user_input: str, history):\n",
    "    result = graph.invoke({\"messages\": [{\"role\": \"user\", \"content\": user_input}]}, config=config)\n",
    "    return result[\"messages\"][-1].content\n",
    "\n",
    "\n",
    "gr.ChatInterface(chat, type=\"messages\").launch()"
   ]
  },
  {
   "cell_type": "code",
   "execution_count": 33,
   "metadata": {},
   "outputs": [
    {
     "data": {
      "text/plain": [
       "StateSnapshot(values={'messages': [HumanMessage(content='hello', additional_kwargs={}, response_metadata={}, id='f061f8ba-99df-42a8-99f8-406f9272afc4'), AIMessage(content='Hello! How can I assist you today?', additional_kwargs={'refusal': None}, response_metadata={'token_usage': {'completion_tokens': 10, 'prompt_tokens': 89, 'total_tokens': 99, 'completion_tokens_details': {'accepted_prediction_tokens': 0, 'audio_tokens': 0, 'reasoning_tokens': 0, 'rejected_prediction_tokens': 0}, 'prompt_tokens_details': {'audio_tokens': 0, 'cached_tokens': 0}}, 'model_name': 'gpt-4o-mini-2024-07-18', 'system_fingerprint': 'fp_54eb4bd693', 'id': 'chatcmpl-BccU1kOSie7bwTFMyZzJ2yNrVUrhz', 'service_tier': 'default', 'finish_reason': 'stop', 'logprobs': None}, id='run--2ef36ffd-36a6-4a00-b741-18b76b00b79d-0', usage_metadata={'input_tokens': 89, 'output_tokens': 10, 'total_tokens': 99, 'input_token_details': {'audio': 0, 'cache_read': 0}, 'output_token_details': {'audio': 0, 'reasoning': 0}}), HumanMessage(content='my name is tej', additional_kwargs={}, response_metadata={}, id='ced6d433-fc76-4214-8f1b-0b5d0e8baf2b'), AIMessage(content='Nice to meet you, Tej! How can I help you today?', additional_kwargs={'refusal': None}, response_metadata={'token_usage': {'completion_tokens': 16, 'prompt_tokens': 110, 'total_tokens': 126, 'completion_tokens_details': {'accepted_prediction_tokens': 0, 'audio_tokens': 0, 'reasoning_tokens': 0, 'rejected_prediction_tokens': 0}, 'prompt_tokens_details': {'audio_tokens': 0, 'cached_tokens': 0}}, 'model_name': 'gpt-4o-mini-2024-07-18', 'system_fingerprint': 'fp_54eb4bd693', 'id': 'chatcmpl-BccU8lvJ2zFLBJaM4quIiiayX26R1', 'service_tier': 'default', 'finish_reason': 'stop', 'logprobs': None}, id='run--ea9bbf5a-80d4-4d9f-b028-ce9d46f60f5e-0', usage_metadata={'input_tokens': 110, 'output_tokens': 16, 'total_tokens': 126, 'input_token_details': {'audio': 0, 'cache_read': 0}, 'output_token_details': {'audio': 0, 'reasoning': 0}}), HumanMessage(content=\"what's my name?\", additional_kwargs={}, response_metadata={}, id='402c5218-2858-457a-9c2c-a646009231b4'), AIMessage(content='Your name is Tej.', additional_kwargs={'refusal': None}, response_metadata={'token_usage': {'completion_tokens': 7, 'prompt_tokens': 138, 'total_tokens': 145, 'completion_tokens_details': {'accepted_prediction_tokens': 0, 'audio_tokens': 0, 'reasoning_tokens': 0, 'rejected_prediction_tokens': 0}, 'prompt_tokens_details': {'audio_tokens': 0, 'cached_tokens': 0}}, 'model_name': 'gpt-4o-mini-2024-07-18', 'system_fingerprint': 'fp_54eb4bd693', 'id': 'chatcmpl-BccUFJJ4T9pVnEyCwv6vzqqZWXWlN', 'service_tier': 'default', 'finish_reason': 'stop', 'logprobs': None}, id='run--c89c0093-5da9-4ab8-b95c-6656b0732259-0', usage_metadata={'input_tokens': 138, 'output_tokens': 7, 'total_tokens': 145, 'input_token_details': {'audio': 0, 'cache_read': 0}, 'output_token_details': {'audio': 0, 'reasoning': 0}})]}, next=(), config={'configurable': {'thread_id': '1', 'checkpoint_ns': '', 'checkpoint_id': '1f03cbc9-446b-64bc-8007-20a3f465f2be'}}, metadata={'source': 'loop', 'writes': {'chatbot': {'messages': [AIMessage(content='Your name is Tej.', additional_kwargs={'refusal': None}, response_metadata={'token_usage': {'completion_tokens': 7, 'prompt_tokens': 138, 'total_tokens': 145, 'completion_tokens_details': {'accepted_prediction_tokens': 0, 'audio_tokens': 0, 'reasoning_tokens': 0, 'rejected_prediction_tokens': 0}, 'prompt_tokens_details': {'audio_tokens': 0, 'cached_tokens': 0}}, 'model_name': 'gpt-4o-mini-2024-07-18', 'system_fingerprint': 'fp_54eb4bd693', 'id': 'chatcmpl-BccUFJJ4T9pVnEyCwv6vzqqZWXWlN', 'service_tier': 'default', 'finish_reason': 'stop', 'logprobs': None}, id='run--c89c0093-5da9-4ab8-b95c-6656b0732259-0', usage_metadata={'input_tokens': 138, 'output_tokens': 7, 'total_tokens': 145, 'input_token_details': {'audio': 0, 'cache_read': 0}, 'output_token_details': {'audio': 0, 'reasoning': 0}})]}}, 'step': 7, 'parents': {}, 'thread_id': '1'}, created_at='2025-05-29T18:41:48.766523+00:00', parent_config={'configurable': {'thread_id': '1', 'checkpoint_ns': '', 'checkpoint_id': '1f03cbc9-39c1-602a-8006-771ef3e75bd5'}}, tasks=(), interrupts=())"
      ]
     },
     "execution_count": 33,
     "metadata": {},
     "output_type": "execute_result"
    }
   ],
   "source": [
    "graph.get_state(config)"
   ]
  },
  {
   "cell_type": "code",
   "execution_count": 34,
   "metadata": {},
   "outputs": [
    {
     "data": {
      "text/plain": [
       "[StateSnapshot(values={'messages': [HumanMessage(content='hello', additional_kwargs={}, response_metadata={}, id='f061f8ba-99df-42a8-99f8-406f9272afc4'), AIMessage(content='Hello! How can I assist you today?', additional_kwargs={'refusal': None}, response_metadata={'token_usage': {'completion_tokens': 10, 'prompt_tokens': 89, 'total_tokens': 99, 'completion_tokens_details': {'accepted_prediction_tokens': 0, 'audio_tokens': 0, 'reasoning_tokens': 0, 'rejected_prediction_tokens': 0}, 'prompt_tokens_details': {'audio_tokens': 0, 'cached_tokens': 0}}, 'model_name': 'gpt-4o-mini-2024-07-18', 'system_fingerprint': 'fp_54eb4bd693', 'id': 'chatcmpl-BccU1kOSie7bwTFMyZzJ2yNrVUrhz', 'service_tier': 'default', 'finish_reason': 'stop', 'logprobs': None}, id='run--2ef36ffd-36a6-4a00-b741-18b76b00b79d-0', usage_metadata={'input_tokens': 89, 'output_tokens': 10, 'total_tokens': 99, 'input_token_details': {'audio': 0, 'cache_read': 0}, 'output_token_details': {'audio': 0, 'reasoning': 0}}), HumanMessage(content='my name is tej', additional_kwargs={}, response_metadata={}, id='ced6d433-fc76-4214-8f1b-0b5d0e8baf2b'), AIMessage(content='Nice to meet you, Tej! How can I help you today?', additional_kwargs={'refusal': None}, response_metadata={'token_usage': {'completion_tokens': 16, 'prompt_tokens': 110, 'total_tokens': 126, 'completion_tokens_details': {'accepted_prediction_tokens': 0, 'audio_tokens': 0, 'reasoning_tokens': 0, 'rejected_prediction_tokens': 0}, 'prompt_tokens_details': {'audio_tokens': 0, 'cached_tokens': 0}}, 'model_name': 'gpt-4o-mini-2024-07-18', 'system_fingerprint': 'fp_54eb4bd693', 'id': 'chatcmpl-BccU8lvJ2zFLBJaM4quIiiayX26R1', 'service_tier': 'default', 'finish_reason': 'stop', 'logprobs': None}, id='run--ea9bbf5a-80d4-4d9f-b028-ce9d46f60f5e-0', usage_metadata={'input_tokens': 110, 'output_tokens': 16, 'total_tokens': 126, 'input_token_details': {'audio': 0, 'cache_read': 0}, 'output_token_details': {'audio': 0, 'reasoning': 0}}), HumanMessage(content=\"what's my name?\", additional_kwargs={}, response_metadata={}, id='402c5218-2858-457a-9c2c-a646009231b4'), AIMessage(content='Your name is Tej.', additional_kwargs={'refusal': None}, response_metadata={'token_usage': {'completion_tokens': 7, 'prompt_tokens': 138, 'total_tokens': 145, 'completion_tokens_details': {'accepted_prediction_tokens': 0, 'audio_tokens': 0, 'reasoning_tokens': 0, 'rejected_prediction_tokens': 0}, 'prompt_tokens_details': {'audio_tokens': 0, 'cached_tokens': 0}}, 'model_name': 'gpt-4o-mini-2024-07-18', 'system_fingerprint': 'fp_54eb4bd693', 'id': 'chatcmpl-BccUFJJ4T9pVnEyCwv6vzqqZWXWlN', 'service_tier': 'default', 'finish_reason': 'stop', 'logprobs': None}, id='run--c89c0093-5da9-4ab8-b95c-6656b0732259-0', usage_metadata={'input_tokens': 138, 'output_tokens': 7, 'total_tokens': 145, 'input_token_details': {'audio': 0, 'cache_read': 0}, 'output_token_details': {'audio': 0, 'reasoning': 0}})]}, next=(), config={'configurable': {'thread_id': '1', 'checkpoint_ns': '', 'checkpoint_id': '1f03cbc9-446b-64bc-8007-20a3f465f2be'}}, metadata={'source': 'loop', 'writes': {'chatbot': {'messages': [AIMessage(content='Your name is Tej.', additional_kwargs={'refusal': None}, response_metadata={'token_usage': {'completion_tokens': 7, 'prompt_tokens': 138, 'total_tokens': 145, 'completion_tokens_details': {'accepted_prediction_tokens': 0, 'audio_tokens': 0, 'reasoning_tokens': 0, 'rejected_prediction_tokens': 0}, 'prompt_tokens_details': {'audio_tokens': 0, 'cached_tokens': 0}}, 'model_name': 'gpt-4o-mini-2024-07-18', 'system_fingerprint': 'fp_54eb4bd693', 'id': 'chatcmpl-BccUFJJ4T9pVnEyCwv6vzqqZWXWlN', 'service_tier': 'default', 'finish_reason': 'stop', 'logprobs': None}, id='run--c89c0093-5da9-4ab8-b95c-6656b0732259-0', usage_metadata={'input_tokens': 138, 'output_tokens': 7, 'total_tokens': 145, 'input_token_details': {'audio': 0, 'cache_read': 0}, 'output_token_details': {'audio': 0, 'reasoning': 0}})]}}, 'step': 7, 'parents': {}, 'thread_id': '1'}, created_at='2025-05-29T18:41:48.766523+00:00', parent_config={'configurable': {'thread_id': '1', 'checkpoint_ns': '', 'checkpoint_id': '1f03cbc9-39c1-602a-8006-771ef3e75bd5'}}, tasks=(), interrupts=()),\n",
       " StateSnapshot(values={'messages': [HumanMessage(content='hello', additional_kwargs={}, response_metadata={}, id='f061f8ba-99df-42a8-99f8-406f9272afc4'), AIMessage(content='Hello! How can I assist you today?', additional_kwargs={'refusal': None}, response_metadata={'token_usage': {'completion_tokens': 10, 'prompt_tokens': 89, 'total_tokens': 99, 'completion_tokens_details': {'accepted_prediction_tokens': 0, 'audio_tokens': 0, 'reasoning_tokens': 0, 'rejected_prediction_tokens': 0}, 'prompt_tokens_details': {'audio_tokens': 0, 'cached_tokens': 0}}, 'model_name': 'gpt-4o-mini-2024-07-18', 'system_fingerprint': 'fp_54eb4bd693', 'id': 'chatcmpl-BccU1kOSie7bwTFMyZzJ2yNrVUrhz', 'service_tier': 'default', 'finish_reason': 'stop', 'logprobs': None}, id='run--2ef36ffd-36a6-4a00-b741-18b76b00b79d-0', usage_metadata={'input_tokens': 89, 'output_tokens': 10, 'total_tokens': 99, 'input_token_details': {'audio': 0, 'cache_read': 0}, 'output_token_details': {'audio': 0, 'reasoning': 0}}), HumanMessage(content='my name is tej', additional_kwargs={}, response_metadata={}, id='ced6d433-fc76-4214-8f1b-0b5d0e8baf2b'), AIMessage(content='Nice to meet you, Tej! How can I help you today?', additional_kwargs={'refusal': None}, response_metadata={'token_usage': {'completion_tokens': 16, 'prompt_tokens': 110, 'total_tokens': 126, 'completion_tokens_details': {'accepted_prediction_tokens': 0, 'audio_tokens': 0, 'reasoning_tokens': 0, 'rejected_prediction_tokens': 0}, 'prompt_tokens_details': {'audio_tokens': 0, 'cached_tokens': 0}}, 'model_name': 'gpt-4o-mini-2024-07-18', 'system_fingerprint': 'fp_54eb4bd693', 'id': 'chatcmpl-BccU8lvJ2zFLBJaM4quIiiayX26R1', 'service_tier': 'default', 'finish_reason': 'stop', 'logprobs': None}, id='run--ea9bbf5a-80d4-4d9f-b028-ce9d46f60f5e-0', usage_metadata={'input_tokens': 110, 'output_tokens': 16, 'total_tokens': 126, 'input_token_details': {'audio': 0, 'cache_read': 0}, 'output_token_details': {'audio': 0, 'reasoning': 0}}), HumanMessage(content=\"what's my name?\", additional_kwargs={}, response_metadata={}, id='402c5218-2858-457a-9c2c-a646009231b4')]}, next=('chatbot',), config={'configurable': {'thread_id': '1', 'checkpoint_ns': '', 'checkpoint_id': '1f03cbc9-39c1-602a-8006-771ef3e75bd5'}}, metadata={'source': 'loop', 'writes': None, 'step': 6, 'parents': {}, 'thread_id': '1'}, created_at='2025-05-29T18:41:47.648197+00:00', parent_config={'configurable': {'thread_id': '1', 'checkpoint_ns': '', 'checkpoint_id': '1f03cbc9-39bf-6180-8005-ed7522c49ce5'}}, tasks=(PregelTask(id='88fe9f5a-5012-eea8-b116-de9445518923', name='chatbot', path=('__pregel_pull', 'chatbot'), error=None, interrupts=(), state=None, result={'messages': [AIMessage(content='Your name is Tej.', additional_kwargs={'refusal': None}, response_metadata={'token_usage': {'completion_tokens': 7, 'prompt_tokens': 138, 'total_tokens': 145, 'completion_tokens_details': {'accepted_prediction_tokens': 0, 'audio_tokens': 0, 'reasoning_tokens': 0, 'rejected_prediction_tokens': 0}, 'prompt_tokens_details': {'audio_tokens': 0, 'cached_tokens': 0}}, 'model_name': 'gpt-4o-mini-2024-07-18', 'system_fingerprint': 'fp_54eb4bd693', 'id': 'chatcmpl-BccUFJJ4T9pVnEyCwv6vzqqZWXWlN', 'service_tier': 'default', 'finish_reason': 'stop', 'logprobs': None}, id='run--c89c0093-5da9-4ab8-b95c-6656b0732259-0', usage_metadata={'input_tokens': 138, 'output_tokens': 7, 'total_tokens': 145, 'input_token_details': {'audio': 0, 'cache_read': 0}, 'output_token_details': {'audio': 0, 'reasoning': 0}})]}),), interrupts=()),\n",
       " StateSnapshot(values={'messages': [HumanMessage(content='hello', additional_kwargs={}, response_metadata={}, id='f061f8ba-99df-42a8-99f8-406f9272afc4'), AIMessage(content='Hello! How can I assist you today?', additional_kwargs={'refusal': None}, response_metadata={'token_usage': {'completion_tokens': 10, 'prompt_tokens': 89, 'total_tokens': 99, 'completion_tokens_details': {'accepted_prediction_tokens': 0, 'audio_tokens': 0, 'reasoning_tokens': 0, 'rejected_prediction_tokens': 0}, 'prompt_tokens_details': {'audio_tokens': 0, 'cached_tokens': 0}}, 'model_name': 'gpt-4o-mini-2024-07-18', 'system_fingerprint': 'fp_54eb4bd693', 'id': 'chatcmpl-BccU1kOSie7bwTFMyZzJ2yNrVUrhz', 'service_tier': 'default', 'finish_reason': 'stop', 'logprobs': None}, id='run--2ef36ffd-36a6-4a00-b741-18b76b00b79d-0', usage_metadata={'input_tokens': 89, 'output_tokens': 10, 'total_tokens': 99, 'input_token_details': {'audio': 0, 'cache_read': 0}, 'output_token_details': {'audio': 0, 'reasoning': 0}}), HumanMessage(content='my name is tej', additional_kwargs={}, response_metadata={}, id='ced6d433-fc76-4214-8f1b-0b5d0e8baf2b'), AIMessage(content='Nice to meet you, Tej! How can I help you today?', additional_kwargs={'refusal': None}, response_metadata={'token_usage': {'completion_tokens': 16, 'prompt_tokens': 110, 'total_tokens': 126, 'completion_tokens_details': {'accepted_prediction_tokens': 0, 'audio_tokens': 0, 'reasoning_tokens': 0, 'rejected_prediction_tokens': 0}, 'prompt_tokens_details': {'audio_tokens': 0, 'cached_tokens': 0}}, 'model_name': 'gpt-4o-mini-2024-07-18', 'system_fingerprint': 'fp_54eb4bd693', 'id': 'chatcmpl-BccU8lvJ2zFLBJaM4quIiiayX26R1', 'service_tier': 'default', 'finish_reason': 'stop', 'logprobs': None}, id='run--ea9bbf5a-80d4-4d9f-b028-ce9d46f60f5e-0', usage_metadata={'input_tokens': 110, 'output_tokens': 16, 'total_tokens': 126, 'input_token_details': {'audio': 0, 'cache_read': 0}, 'output_token_details': {'audio': 0, 'reasoning': 0}})]}, next=('__start__',), config={'configurable': {'thread_id': '1', 'checkpoint_ns': '', 'checkpoint_id': '1f03cbc9-39bf-6180-8005-ed7522c49ce5'}}, metadata={'source': 'input', 'writes': {'__start__': {'messages': [{'role': 'user', 'content': \"what's my name?\"}]}}, 'step': 5, 'parents': {}, 'thread_id': '1'}, created_at='2025-05-29T18:41:47.647415+00:00', parent_config={'configurable': {'thread_id': '1', 'checkpoint_ns': '', 'checkpoint_id': '1f03cbc8-fd80-6aa2-8004-acd843b97e03'}}, tasks=(PregelTask(id='33b38d63-7ee9-4e36-13fe-3a1d4575cf4e', name='__start__', path=('__pregel_pull', '__start__'), error=None, interrupts=(), state=None, result={'messages': [{'role': 'user', 'content': \"what's my name?\"}]}),), interrupts=()),\n",
       " StateSnapshot(values={'messages': [HumanMessage(content='hello', additional_kwargs={}, response_metadata={}, id='f061f8ba-99df-42a8-99f8-406f9272afc4'), AIMessage(content='Hello! How can I assist you today?', additional_kwargs={'refusal': None}, response_metadata={'token_usage': {'completion_tokens': 10, 'prompt_tokens': 89, 'total_tokens': 99, 'completion_tokens_details': {'accepted_prediction_tokens': 0, 'audio_tokens': 0, 'reasoning_tokens': 0, 'rejected_prediction_tokens': 0}, 'prompt_tokens_details': {'audio_tokens': 0, 'cached_tokens': 0}}, 'model_name': 'gpt-4o-mini-2024-07-18', 'system_fingerprint': 'fp_54eb4bd693', 'id': 'chatcmpl-BccU1kOSie7bwTFMyZzJ2yNrVUrhz', 'service_tier': 'default', 'finish_reason': 'stop', 'logprobs': None}, id='run--2ef36ffd-36a6-4a00-b741-18b76b00b79d-0', usage_metadata={'input_tokens': 89, 'output_tokens': 10, 'total_tokens': 99, 'input_token_details': {'audio': 0, 'cache_read': 0}, 'output_token_details': {'audio': 0, 'reasoning': 0}}), HumanMessage(content='my name is tej', additional_kwargs={}, response_metadata={}, id='ced6d433-fc76-4214-8f1b-0b5d0e8baf2b'), AIMessage(content='Nice to meet you, Tej! How can I help you today?', additional_kwargs={'refusal': None}, response_metadata={'token_usage': {'completion_tokens': 16, 'prompt_tokens': 110, 'total_tokens': 126, 'completion_tokens_details': {'accepted_prediction_tokens': 0, 'audio_tokens': 0, 'reasoning_tokens': 0, 'rejected_prediction_tokens': 0}, 'prompt_tokens_details': {'audio_tokens': 0, 'cached_tokens': 0}}, 'model_name': 'gpt-4o-mini-2024-07-18', 'system_fingerprint': 'fp_54eb4bd693', 'id': 'chatcmpl-BccU8lvJ2zFLBJaM4quIiiayX26R1', 'service_tier': 'default', 'finish_reason': 'stop', 'logprobs': None}, id='run--ea9bbf5a-80d4-4d9f-b028-ce9d46f60f5e-0', usage_metadata={'input_tokens': 110, 'output_tokens': 16, 'total_tokens': 126, 'input_token_details': {'audio': 0, 'cache_read': 0}, 'output_token_details': {'audio': 0, 'reasoning': 0}})]}, next=(), config={'configurable': {'thread_id': '1', 'checkpoint_ns': '', 'checkpoint_id': '1f03cbc8-fd80-6aa2-8004-acd843b97e03'}}, metadata={'source': 'loop', 'writes': {'chatbot': {'messages': [AIMessage(content='Nice to meet you, Tej! How can I help you today?', additional_kwargs={'refusal': None}, response_metadata={'token_usage': {'completion_tokens': 16, 'prompt_tokens': 110, 'total_tokens': 126, 'completion_tokens_details': {'accepted_prediction_tokens': 0, 'audio_tokens': 0, 'reasoning_tokens': 0, 'rejected_prediction_tokens': 0}, 'prompt_tokens_details': {'audio_tokens': 0, 'cached_tokens': 0}}, 'model_name': 'gpt-4o-mini-2024-07-18', 'system_fingerprint': 'fp_54eb4bd693', 'id': 'chatcmpl-BccU8lvJ2zFLBJaM4quIiiayX26R1', 'service_tier': 'default', 'finish_reason': 'stop', 'logprobs': None}, id='run--ea9bbf5a-80d4-4d9f-b028-ce9d46f60f5e-0', usage_metadata={'input_tokens': 110, 'output_tokens': 16, 'total_tokens': 126, 'input_token_details': {'audio': 0, 'cache_read': 0}, 'output_token_details': {'audio': 0, 'reasoning': 0}})]}}, 'step': 4, 'parents': {}, 'thread_id': '1'}, created_at='2025-05-29T18:41:41.330386+00:00', parent_config={'configurable': {'thread_id': '1', 'checkpoint_ns': '', 'checkpoint_id': '1f03cbc8-f121-6090-8003-7359321ee42f'}}, tasks=(), interrupts=()),\n",
       " StateSnapshot(values={'messages': [HumanMessage(content='hello', additional_kwargs={}, response_metadata={}, id='f061f8ba-99df-42a8-99f8-406f9272afc4'), AIMessage(content='Hello! How can I assist you today?', additional_kwargs={'refusal': None}, response_metadata={'token_usage': {'completion_tokens': 10, 'prompt_tokens': 89, 'total_tokens': 99, 'completion_tokens_details': {'accepted_prediction_tokens': 0, 'audio_tokens': 0, 'reasoning_tokens': 0, 'rejected_prediction_tokens': 0}, 'prompt_tokens_details': {'audio_tokens': 0, 'cached_tokens': 0}}, 'model_name': 'gpt-4o-mini-2024-07-18', 'system_fingerprint': 'fp_54eb4bd693', 'id': 'chatcmpl-BccU1kOSie7bwTFMyZzJ2yNrVUrhz', 'service_tier': 'default', 'finish_reason': 'stop', 'logprobs': None}, id='run--2ef36ffd-36a6-4a00-b741-18b76b00b79d-0', usage_metadata={'input_tokens': 89, 'output_tokens': 10, 'total_tokens': 99, 'input_token_details': {'audio': 0, 'cache_read': 0}, 'output_token_details': {'audio': 0, 'reasoning': 0}}), HumanMessage(content='my name is tej', additional_kwargs={}, response_metadata={}, id='ced6d433-fc76-4214-8f1b-0b5d0e8baf2b')]}, next=('chatbot',), config={'configurable': {'thread_id': '1', 'checkpoint_ns': '', 'checkpoint_id': '1f03cbc8-f121-6090-8003-7359321ee42f'}}, metadata={'source': 'loop', 'writes': None, 'step': 3, 'parents': {}, 'thread_id': '1'}, created_at='2025-05-29T18:41:40.032929+00:00', parent_config={'configurable': {'thread_id': '1', 'checkpoint_ns': '', 'checkpoint_id': '1f03cbc8-f11f-6aa6-8002-72b0b77ca28d'}}, tasks=(PregelTask(id='48357139-e941-8d37-2aae-b2a706f9a985', name='chatbot', path=('__pregel_pull', 'chatbot'), error=None, interrupts=(), state=None, result={'messages': [AIMessage(content='Nice to meet you, Tej! How can I help you today?', additional_kwargs={'refusal': None}, response_metadata={'token_usage': {'completion_tokens': 16, 'prompt_tokens': 110, 'total_tokens': 126, 'completion_tokens_details': {'accepted_prediction_tokens': 0, 'audio_tokens': 0, 'reasoning_tokens': 0, 'rejected_prediction_tokens': 0}, 'prompt_tokens_details': {'audio_tokens': 0, 'cached_tokens': 0}}, 'model_name': 'gpt-4o-mini-2024-07-18', 'system_fingerprint': 'fp_54eb4bd693', 'id': 'chatcmpl-BccU8lvJ2zFLBJaM4quIiiayX26R1', 'service_tier': 'default', 'finish_reason': 'stop', 'logprobs': None}, id='run--ea9bbf5a-80d4-4d9f-b028-ce9d46f60f5e-0', usage_metadata={'input_tokens': 110, 'output_tokens': 16, 'total_tokens': 126, 'input_token_details': {'audio': 0, 'cache_read': 0}, 'output_token_details': {'audio': 0, 'reasoning': 0}})]}),), interrupts=()),\n",
       " StateSnapshot(values={'messages': [HumanMessage(content='hello', additional_kwargs={}, response_metadata={}, id='f061f8ba-99df-42a8-99f8-406f9272afc4'), AIMessage(content='Hello! How can I assist you today?', additional_kwargs={'refusal': None}, response_metadata={'token_usage': {'completion_tokens': 10, 'prompt_tokens': 89, 'total_tokens': 99, 'completion_tokens_details': {'accepted_prediction_tokens': 0, 'audio_tokens': 0, 'reasoning_tokens': 0, 'rejected_prediction_tokens': 0}, 'prompt_tokens_details': {'audio_tokens': 0, 'cached_tokens': 0}}, 'model_name': 'gpt-4o-mini-2024-07-18', 'system_fingerprint': 'fp_54eb4bd693', 'id': 'chatcmpl-BccU1kOSie7bwTFMyZzJ2yNrVUrhz', 'service_tier': 'default', 'finish_reason': 'stop', 'logprobs': None}, id='run--2ef36ffd-36a6-4a00-b741-18b76b00b79d-0', usage_metadata={'input_tokens': 89, 'output_tokens': 10, 'total_tokens': 99, 'input_token_details': {'audio': 0, 'cache_read': 0}, 'output_token_details': {'audio': 0, 'reasoning': 0}})]}, next=('__start__',), config={'configurable': {'thread_id': '1', 'checkpoint_ns': '', 'checkpoint_id': '1f03cbc8-f11f-6aa6-8002-72b0b77ca28d'}}, metadata={'source': 'input', 'writes': {'__start__': {'messages': [{'role': 'user', 'content': 'my name is tej'}]}}, 'step': 2, 'parents': {}, 'thread_id': '1'}, created_at='2025-05-29T18:41:40.032363+00:00', parent_config={'configurable': {'thread_id': '1', 'checkpoint_ns': '', 'checkpoint_id': '1f03cbc8-b9d2-6738-8001-04f5f1a4cc0d'}}, tasks=(PregelTask(id='273317eb-8d8f-bf34-43a0-8f762a49ad4a', name='__start__', path=('__pregel_pull', '__start__'), error=None, interrupts=(), state=None, result={'messages': [{'role': 'user', 'content': 'my name is tej'}]}),), interrupts=()),\n",
       " StateSnapshot(values={'messages': [HumanMessage(content='hello', additional_kwargs={}, response_metadata={}, id='f061f8ba-99df-42a8-99f8-406f9272afc4'), AIMessage(content='Hello! How can I assist you today?', additional_kwargs={'refusal': None}, response_metadata={'token_usage': {'completion_tokens': 10, 'prompt_tokens': 89, 'total_tokens': 99, 'completion_tokens_details': {'accepted_prediction_tokens': 0, 'audio_tokens': 0, 'reasoning_tokens': 0, 'rejected_prediction_tokens': 0}, 'prompt_tokens_details': {'audio_tokens': 0, 'cached_tokens': 0}}, 'model_name': 'gpt-4o-mini-2024-07-18', 'system_fingerprint': 'fp_54eb4bd693', 'id': 'chatcmpl-BccU1kOSie7bwTFMyZzJ2yNrVUrhz', 'service_tier': 'default', 'finish_reason': 'stop', 'logprobs': None}, id='run--2ef36ffd-36a6-4a00-b741-18b76b00b79d-0', usage_metadata={'input_tokens': 89, 'output_tokens': 10, 'total_tokens': 99, 'input_token_details': {'audio': 0, 'cache_read': 0}, 'output_token_details': {'audio': 0, 'reasoning': 0}})]}, next=(), config={'configurable': {'thread_id': '1', 'checkpoint_ns': '', 'checkpoint_id': '1f03cbc8-b9d2-6738-8001-04f5f1a4cc0d'}}, metadata={'source': 'loop', 'writes': {'chatbot': {'messages': [AIMessage(content='Hello! How can I assist you today?', additional_kwargs={'refusal': None}, response_metadata={'token_usage': {'completion_tokens': 10, 'prompt_tokens': 89, 'total_tokens': 99, 'completion_tokens_details': {'accepted_prediction_tokens': 0, 'audio_tokens': 0, 'reasoning_tokens': 0, 'rejected_prediction_tokens': 0}, 'prompt_tokens_details': {'audio_tokens': 0, 'cached_tokens': 0}}, 'model_name': 'gpt-4o-mini-2024-07-18', 'system_fingerprint': 'fp_54eb4bd693', 'id': 'chatcmpl-BccU1kOSie7bwTFMyZzJ2yNrVUrhz', 'service_tier': 'default', 'finish_reason': 'stop', 'logprobs': None}, id='run--2ef36ffd-36a6-4a00-b741-18b76b00b79d-0', usage_metadata={'input_tokens': 89, 'output_tokens': 10, 'total_tokens': 99, 'input_token_details': {'audio': 0, 'cache_read': 0}, 'output_token_details': {'audio': 0, 'reasoning': 0}})]}}, 'step': 1, 'parents': {}, 'thread_id': '1'}, created_at='2025-05-29T18:41:34.233564+00:00', parent_config={'configurable': {'thread_id': '1', 'checkpoint_ns': '', 'checkpoint_id': '1f03cbc8-b064-64bc-8000-8d5a1b598723'}}, tasks=(), interrupts=()),\n",
       " StateSnapshot(values={'messages': [HumanMessage(content='hello', additional_kwargs={}, response_metadata={}, id='f061f8ba-99df-42a8-99f8-406f9272afc4')]}, next=('chatbot',), config={'configurable': {'thread_id': '1', 'checkpoint_ns': '', 'checkpoint_id': '1f03cbc8-b064-64bc-8000-8d5a1b598723'}}, metadata={'source': 'loop', 'writes': None, 'step': 0, 'parents': {}, 'thread_id': '1'}, created_at='2025-05-29T18:41:33.244735+00:00', parent_config={'configurable': {'thread_id': '1', 'checkpoint_ns': '', 'checkpoint_id': '1f03cbc8-b062-6d06-bfff-4065911ae71e'}}, tasks=(PregelTask(id='56f1be95-f7a2-8390-3bcf-c980a40a1d87', name='chatbot', path=('__pregel_pull', 'chatbot'), error=None, interrupts=(), state=None, result={'messages': [AIMessage(content='Hello! How can I assist you today?', additional_kwargs={'refusal': None}, response_metadata={'token_usage': {'completion_tokens': 10, 'prompt_tokens': 89, 'total_tokens': 99, 'completion_tokens_details': {'accepted_prediction_tokens': 0, 'audio_tokens': 0, 'reasoning_tokens': 0, 'rejected_prediction_tokens': 0}, 'prompt_tokens_details': {'audio_tokens': 0, 'cached_tokens': 0}}, 'model_name': 'gpt-4o-mini-2024-07-18', 'system_fingerprint': 'fp_54eb4bd693', 'id': 'chatcmpl-BccU1kOSie7bwTFMyZzJ2yNrVUrhz', 'service_tier': 'default', 'finish_reason': 'stop', 'logprobs': None}, id='run--2ef36ffd-36a6-4a00-b741-18b76b00b79d-0', usage_metadata={'input_tokens': 89, 'output_tokens': 10, 'total_tokens': 99, 'input_token_details': {'audio': 0, 'cache_read': 0}, 'output_token_details': {'audio': 0, 'reasoning': 0}})]}),), interrupts=()),\n",
       " StateSnapshot(values={'messages': []}, next=('__start__',), config={'configurable': {'thread_id': '1', 'checkpoint_ns': '', 'checkpoint_id': '1f03cbc8-b062-6d06-bfff-4065911ae71e'}}, metadata={'source': 'input', 'writes': {'__start__': {'messages': [{'role': 'user', 'content': 'hello'}]}}, 'step': -1, 'parents': {}, 'thread_id': '1'}, created_at='2025-05-29T18:41:33.244131+00:00', parent_config=None, tasks=(PregelTask(id='cadf85dd-eb0e-c0fb-158e-05bea9e6ff77', name='__start__', path=('__pregel_pull', '__start__'), error=None, interrupts=(), state=None, result={'messages': [{'role': 'user', 'content': 'hello'}]}),), interrupts=())]"
      ]
     },
     "execution_count": 34,
     "metadata": {},
     "output_type": "execute_result"
    }
   ],
   "source": [
    "# Most recent first\n",
    "\n",
    "list(graph.get_state_history(config))"
   ]
  },
  {
   "cell_type": "markdown",
   "metadata": {},
   "source": [
    "### LangGraph gives you tools to set the state back to a prior point in time, to branch off:\n",
    "\n",
    "```\n",
    "config = {\"configurable\": {\"thread_id\": \"1\", \"checkpoint_id\": ...}}\n",
    "graph.invoke(None, config=config)\n",
    "```\n",
    "\n",
    "And this allows you to build stable systems that can be recovered and rerun from any prior checkpoint."
   ]
  },
  {
   "cell_type": "markdown",
   "metadata": {},
   "source": [
    "### And now let's store in SQL\n",
    "\n",
    "### And this is the power of LangGraph."
   ]
  },
  {
   "cell_type": "code",
   "execution_count": 35,
   "metadata": {},
   "outputs": [],
   "source": [
    "import sqlite3\n",
    "from langgraph.checkpoint.sqlite import SqliteSaver\n",
    "\n",
    "db_path = \"memory.db\"\n",
    "conn = sqlite3.connect(db_path, check_same_thread=False)\n",
    "sql_memory = SqliteSaver(conn)"
   ]
  },
  {
   "cell_type": "code",
   "execution_count": 36,
   "metadata": {},
   "outputs": [
    {
     "data": {
      "image/png": "[encoded data removed]",
      "text/plain": [
       "<IPython.core.display.Image object>"
      ]
     },
     "metadata": {},
     "output_type": "display_data"
    }
   ],
   "source": [
    "# Steps 1 and 2\n",
    "graph_builder = StateGraph(State)\n",
    "\n",
    "\n",
    "# Step 3\n",
    "llm = ChatOpenAI(model=\"gpt-4o-mini\")\n",
    "llm_with_tools = llm.bind_tools(tools)\n",
    "\n",
    "def chatbot(state: State):\n",
    "    print(state)\n",
    "    return {\"messages\": [llm_with_tools.invoke(state[\"messages\"])]}\n",
    "\n",
    "graph_builder.add_node(\"chatbot\", chatbot)\n",
    "graph_builder.add_node(\"tools\", ToolNode(tools=tools))\n",
    "\n",
    "# Step 4\n",
    "graph_builder.add_conditional_edges( \"chatbot\", tools_condition, \"tools\")\n",
    "graph_builder.add_edge(\"tools\", \"chatbot\")\n",
    "graph_builder.add_edge(START, \"chatbot\")\n",
    "\n",
    "# Step 5\n",
    "graph = graph_builder.compile(checkpointer=sql_memory)\n",
    "display(Image(graph.get_graph().draw_mermaid_png()))\n",
    " "
   ]
  },
  {
   "cell_type": "code",
   "execution_count": 38,
   "metadata": {},
   "outputs": [
    {
     "name": "stdout",
     "output_type": "stream",
     "text": [
      "* Running on local URL:  http://127.0.0.1:7865\n",
      "* To create a public link, set `share=True` in `launch()`.\n"
     ]
    },
    {
     "data": {
      "text/html": [
       "<div><iframe src=\"http://127.0.0.1:7865/\" width=\"100%\" height=\"500\" allow=\"autoplay; camera; microphone; clipboard-read; clipboard-write;\" frameborder=\"0\" allowfullscreen></iframe></div>"
      ],
      "text/plain": [
       "<IPython.core.display.HTML object>"
      ]
     },
     "metadata": {},
     "output_type": "display_data"
    },
    {
     "data": {
      "text/plain": []
     },
     "execution_count": 38,
     "metadata": {},
     "output_type": "execute_result"
    },
    {
     "name": "stdout",
     "output_type": "stream",
     "text": [
      "{'messages': [HumanMessage(content=\"Hi there, what's my name?\", additional_kwargs={}, response_metadata={}, id='d7bcabf1-e12b-4d59-86d7-f802bd9d760a')]}\n",
      "{'messages': [HumanMessage(content=\"Hi there, what's my name?\", additional_kwargs={}, response_metadata={}, id='d7bcabf1-e12b-4d59-86d7-f802bd9d760a'), AIMessage(content=\"I don't have access to personal information about you unless you've shared it during our conversation. If you'd like me to know your name, please tell me!\", additional_kwargs={'refusal': None}, response_metadata={'token_usage': {'completion_tokens': 31, 'prompt_tokens': 95, 'total_tokens': 126, 'completion_tokens_details': {'accepted_prediction_tokens': 0, 'audio_tokens': 0, 'reasoning_tokens': 0, 'rejected_prediction_tokens': 0}, 'prompt_tokens_details': {'audio_tokens': 0, 'cached_tokens': 0}}, 'model_name': 'gpt-4o-mini-2024-07-18', 'system_fingerprint': 'fp_54eb4bd693', 'id': 'chatcmpl-BccbDQllrc2ud8toqPqyRhxbe1GVR', 'service_tier': 'default', 'finish_reason': 'stop', 'logprobs': None}, id='run--a9f0cdc1-bb59-4acd-b042-e213a0107c9c-0', usage_metadata={'input_tokens': 95, 'output_tokens': 31, 'total_tokens': 126, 'input_token_details': {'audio': 0, 'cache_read': 0}, 'output_token_details': {'audio': 0, 'reasoning': 0}}), HumanMessage(content='My name is Tej', additional_kwargs={}, response_metadata={}, id='71fd6a13-09c9-4f61-b6ab-26da76f7360a')]}\n",
      "{'messages': [HumanMessage(content=\"Hi there, what's my name?\", additional_kwargs={}, response_metadata={}, id='d7bcabf1-e12b-4d59-86d7-f802bd9d760a'), AIMessage(content=\"I don't have access to personal information about you unless you've shared it during our conversation. If you'd like me to know your name, please tell me!\", additional_kwargs={'refusal': None}, response_metadata={'token_usage': {'completion_tokens': 31, 'prompt_tokens': 95, 'total_tokens': 126, 'completion_tokens_details': {'accepted_prediction_tokens': 0, 'audio_tokens': 0, 'reasoning_tokens': 0, 'rejected_prediction_tokens': 0}, 'prompt_tokens_details': {'audio_tokens': 0, 'cached_tokens': 0}}, 'model_name': 'gpt-4o-mini-2024-07-18', 'system_fingerprint': 'fp_54eb4bd693', 'id': 'chatcmpl-BccbDQllrc2ud8toqPqyRhxbe1GVR', 'service_tier': 'default', 'finish_reason': 'stop', 'logprobs': None}, id='run--a9f0cdc1-bb59-4acd-b042-e213a0107c9c-0', usage_metadata={'input_tokens': 95, 'output_tokens': 31, 'total_tokens': 126, 'input_token_details': {'audio': 0, 'cache_read': 0}, 'output_token_details': {'audio': 0, 'reasoning': 0}}), HumanMessage(content='My name is Tej', additional_kwargs={}, response_metadata={}, id='71fd6a13-09c9-4f61-b6ab-26da76f7360a'), AIMessage(content='Nice to meet you, Tej! How can I assist you today?', additional_kwargs={'refusal': None}, response_metadata={'token_usage': {'completion_tokens': 16, 'prompt_tokens': 138, 'total_tokens': 154, 'completion_tokens_details': {'accepted_prediction_tokens': 0, 'audio_tokens': 0, 'reasoning_tokens': 0, 'rejected_prediction_tokens': 0}, 'prompt_tokens_details': {'audio_tokens': 0, 'cached_tokens': 0}}, 'model_name': 'gpt-4o-mini-2024-07-18', 'system_fingerprint': 'fp_54eb4bd693', 'id': 'chatcmpl-BccbKfgo05aJ93Y48gTWJZ2AoUvss', 'service_tier': 'default', 'finish_reason': 'stop', 'logprobs': None}, id='run--b3f09617-293a-4c8c-a11d-22157840f323-0', usage_metadata={'input_tokens': 138, 'output_tokens': 16, 'total_tokens': 154, 'input_token_details': {'audio': 0, 'cache_read': 0}, 'output_token_details': {'audio': 0, 'reasoning': 0}}), HumanMessage(content=\"What is today's date?\", additional_kwargs={}, response_metadata={}, id='321123a4-1a17-4865-8877-926b1705fc8e')]}\n",
      "{'messages': [HumanMessage(content=\"Hi there, what's my name?\", additional_kwargs={}, response_metadata={}, id='d7bcabf1-e12b-4d59-86d7-f802bd9d760a'), AIMessage(content=\"I don't have access to personal information about you unless you've shared it during our conversation. If you'd like me to know your name, please tell me!\", additional_kwargs={'refusal': None}, response_metadata={'token_usage': {'completion_tokens': 31, 'prompt_tokens': 95, 'total_tokens': 126, 'completion_tokens_details': {'accepted_prediction_tokens': 0, 'audio_tokens': 0, 'reasoning_tokens': 0, 'rejected_prediction_tokens': 0}, 'prompt_tokens_details': {'audio_tokens': 0, 'cached_tokens': 0}}, 'model_name': 'gpt-4o-mini-2024-07-18', 'system_fingerprint': 'fp_54eb4bd693', 'id': 'chatcmpl-BccbDQllrc2ud8toqPqyRhxbe1GVR', 'service_tier': 'default', 'finish_reason': 'stop', 'logprobs': None}, id='run--a9f0cdc1-bb59-4acd-b042-e213a0107c9c-0', usage_metadata={'input_tokens': 95, 'output_tokens': 31, 'total_tokens': 126, 'input_token_details': {'audio': 0, 'cache_read': 0}, 'output_token_details': {'audio': 0, 'reasoning': 0}}), HumanMessage(content='My name is Tej', additional_kwargs={}, response_metadata={}, id='71fd6a13-09c9-4f61-b6ab-26da76f7360a'), AIMessage(content='Nice to meet you, Tej! How can I assist you today?', additional_kwargs={'refusal': None}, response_metadata={'token_usage': {'completion_tokens': 16, 'prompt_tokens': 138, 'total_tokens': 154, 'completion_tokens_details': {'accepted_prediction_tokens': 0, 'audio_tokens': 0, 'reasoning_tokens': 0, 'rejected_prediction_tokens': 0}, 'prompt_tokens_details': {'audio_tokens': 0, 'cached_tokens': 0}}, 'model_name': 'gpt-4o-mini-2024-07-18', 'system_fingerprint': 'fp_54eb4bd693', 'id': 'chatcmpl-BccbKfgo05aJ93Y48gTWJZ2AoUvss', 'service_tier': 'default', 'finish_reason': 'stop', 'logprobs': None}, id='run--b3f09617-293a-4c8c-a11d-22157840f323-0', usage_metadata={'input_tokens': 138, 'output_tokens': 16, 'total_tokens': 154, 'input_token_details': {'audio': 0, 'cache_read': 0}, 'output_token_details': {'audio': 0, 'reasoning': 0}}), HumanMessage(content=\"What is today's date?\", additional_kwargs={}, response_metadata={}, id='321123a4-1a17-4865-8877-926b1705fc8e'), AIMessage(content=\"Today's date is October 8, 2023.\", additional_kwargs={'refusal': None}, response_metadata={'token_usage': {'completion_tokens': 12, 'prompt_tokens': 166, 'total_tokens': 178, 'completion_tokens_details': {'accepted_prediction_tokens': 0, 'audio_tokens': 0, 'reasoning_tokens': 0, 'rejected_prediction_tokens': 0}, 'prompt_tokens_details': {'audio_tokens': 0, 'cached_tokens': 0}}, 'model_name': 'gpt-4o-mini-2024-07-18', 'system_fingerprint': 'fp_54eb4bd693', 'id': 'chatcmpl-BccbjnpPajK6JvxnB98DahomKoLmv', 'service_tier': 'default', 'finish_reason': 'stop', 'logprobs': None}, id='run--3e9dd64d-2bd6-4207-b8a9-67ebc31e4cb4-0', usage_metadata={'input_tokens': 166, 'output_tokens': 12, 'total_tokens': 178, 'input_token_details': {'audio': 0, 'cache_read': 0}, 'output_token_details': {'audio': 0, 'reasoning': 0}}), HumanMessage(content='what is the current cad/inr exchange rates?', additional_kwargs={}, response_metadata={}, id='b18e0aaf-647f-4be4-80e5-f837fdeb36ad')]}\n",
      "{'messages': [HumanMessage(content=\"Hi there, what's my name?\", additional_kwargs={}, response_metadata={}, id='d7bcabf1-e12b-4d59-86d7-f802bd9d760a'), AIMessage(content=\"I don't have access to personal information about you unless you've shared it during our conversation. If you'd like me to know your name, please tell me!\", additional_kwargs={'refusal': None}, response_metadata={'token_usage': {'completion_tokens': 31, 'prompt_tokens': 95, 'total_tokens': 126, 'completion_tokens_details': {'accepted_prediction_tokens': 0, 'audio_tokens': 0, 'reasoning_tokens': 0, 'rejected_prediction_tokens': 0}, 'prompt_tokens_details': {'audio_tokens': 0, 'cached_tokens': 0}}, 'model_name': 'gpt-4o-mini-2024-07-18', 'system_fingerprint': 'fp_54eb4bd693', 'id': 'chatcmpl-BccbDQllrc2ud8toqPqyRhxbe1GVR', 'service_tier': 'default', 'finish_reason': 'stop', 'logprobs': None}, id='run--a9f0cdc1-bb59-4acd-b042-e213a0107c9c-0', usage_metadata={'input_tokens': 95, 'output_tokens': 31, 'total_tokens': 126, 'input_token_details': {'audio': 0, 'cache_read': 0}, 'output_token_details': {'audio': 0, 'reasoning': 0}}), HumanMessage(content='My name is Tej', additional_kwargs={}, response_metadata={}, id='71fd6a13-09c9-4f61-b6ab-26da76f7360a'), AIMessage(content='Nice to meet you, Tej! How can I assist you today?', additional_kwargs={'refusal': None}, response_metadata={'token_usage': {'completion_tokens': 16, 'prompt_tokens': 138, 'total_tokens': 154, 'completion_tokens_details': {'accepted_prediction_tokens': 0, 'audio_tokens': 0, 'reasoning_tokens': 0, 'rejected_prediction_tokens': 0}, 'prompt_tokens_details': {'audio_tokens': 0, 'cached_tokens': 0}}, 'model_name': 'gpt-4o-mini-2024-07-18', 'system_fingerprint': 'fp_54eb4bd693', 'id': 'chatcmpl-BccbKfgo05aJ93Y48gTWJZ2AoUvss', 'service_tier': 'default', 'finish_reason': 'stop', 'logprobs': None}, id='run--b3f09617-293a-4c8c-a11d-22157840f323-0', usage_metadata={'input_tokens': 138, 'output_tokens': 16, 'total_tokens': 154, 'input_token_details': {'audio': 0, 'cache_read': 0}, 'output_token_details': {'audio': 0, 'reasoning': 0}}), HumanMessage(content=\"What is today's date?\", additional_kwargs={}, response_metadata={}, id='321123a4-1a17-4865-8877-926b1705fc8e'), AIMessage(content=\"Today's date is October 8, 2023.\", additional_kwargs={'refusal': None}, response_metadata={'token_usage': {'completion_tokens': 12, 'prompt_tokens': 166, 'total_tokens': 178, 'completion_tokens_details': {'accepted_prediction_tokens': 0, 'audio_tokens': 0, 'reasoning_tokens': 0, 'rejected_prediction_tokens': 0}, 'prompt_tokens_details': {'audio_tokens': 0, 'cached_tokens': 0}}, 'model_name': 'gpt-4o-mini-2024-07-18', 'system_fingerprint': 'fp_54eb4bd693', 'id': 'chatcmpl-BccbjnpPajK6JvxnB98DahomKoLmv', 'service_tier': 'default', 'finish_reason': 'stop', 'logprobs': None}, id='run--3e9dd64d-2bd6-4207-b8a9-67ebc31e4cb4-0', usage_metadata={'input_tokens': 166, 'output_tokens': 12, 'total_tokens': 178, 'input_token_details': {'audio': 0, 'cache_read': 0}, 'output_token_details': {'audio': 0, 'reasoning': 0}}), HumanMessage(content='what is the current cad/inr exchange rates?', additional_kwargs={}, response_metadata={}, id='b18e0aaf-647f-4be4-80e5-f837fdeb36ad'), AIMessage(content='', additional_kwargs={'tool_calls': [{'id': 'call_nXJiFAQxKqoz4aCO2xIhscV3', 'function': {'arguments': '{\"__arg1\":\"current CAD to INR exchange rate\"}', 'name': 'search'}, 'type': 'function'}], 'refusal': None}, response_metadata={'token_usage': {'completion_tokens': 20, 'prompt_tokens': 195, 'total_tokens': 215, 'completion_tokens_details': {'accepted_prediction_tokens': 0, 'audio_tokens': 0, 'reasoning_tokens': 0, 'rejected_prediction_tokens': 0}, 'prompt_tokens_details': {'audio_tokens': 0, 'cached_tokens': 0}}, 'model_name': 'gpt-4o-mini-2024-07-18', 'system_fingerprint': 'fp_54eb4bd693', 'id': 'chatcmpl-BccdhrblHHcEEJ993MqBha8VzLGaA', 'service_tier': 'default', 'finish_reason': 'tool_calls', 'logprobs': None}, id='run--5f93225b-30f3-4aab-b448-7d582b904fdf-0', tool_calls=[{'name': 'search', 'args': {'__arg1': 'current CAD to INR exchange rate'}, 'id': 'call_nXJiFAQxKqoz4aCO2xIhscV3', 'type': 'tool_call'}], usage_metadata={'input_tokens': 195, 'output_tokens': 20, 'total_tokens': 215, 'input_token_details': {'audio': 0, 'cache_read': 0}, 'output_token_details': {'audio': 0, 'reasoning': 0}}), ToolMessage(content='61.91 Indian Rupee', name='search', id='ae61a116-0107-4874-ae07-d88729758c20', tool_call_id='call_nXJiFAQxKqoz4aCO2xIhscV3'), HumanMessage(content='what is the current cad/inr exchange rate?', additional_kwargs={}, response_metadata={}, id='2ef9b55d-8f78-423f-b9c2-2808bff54ac4')]}{'messages': [HumanMessage(content=\"Hi there, what's my name?\", additional_kwargs={}, response_metadata={}, id='d7bcabf1-e12b-4d59-86d7-f802bd9d760a'), AIMessage(content=\"I don't have access to personal information about you unless you've shared it during our conversation. If you'd like me to know your name, please tell me!\", additional_kwargs={'refusal': None}, response_metadata={'token_usage': {'completion_tokens': 31, 'prompt_tokens': 95, 'total_tokens': 126, 'completion_tokens_details': {'accepted_prediction_tokens': 0, 'audio_tokens': 0, 'reasoning_tokens': 0, 'rejected_prediction_tokens': 0}, 'prompt_tokens_details': {'audio_tokens': 0, 'cached_tokens': 0}}, 'model_name': 'gpt-4o-mini-2024-07-18', 'system_fingerprint': 'fp_54eb4bd693', 'id': 'chatcmpl-BccbDQllrc2ud8toqPqyRhxbe1GVR', 'service_tier': 'default', 'finish_reason': 'stop', 'logprobs': None}, id='run--a9f0cdc1-bb59-4acd-b042-e213a0107c9c-0', usage_metadata={'input_tokens': 95, 'output_tokens': 31, 'total_tokens': 126, 'input_token_details': {'audio': 0, 'cache_read': 0}, 'output_token_details': {'audio': 0, 'reasoning': 0}}), HumanMessage(content='My name is Tej', additional_kwargs={}, response_metadata={}, id='71fd6a13-09c9-4f61-b6ab-26da76f7360a'), AIMessage(content='Nice to meet you, Tej! How can I assist you today?', additional_kwargs={'refusal': None}, response_metadata={'token_usage': {'completion_tokens': 16, 'prompt_tokens': 138, 'total_tokens': 154, 'completion_tokens_details': {'accepted_prediction_tokens': 0, 'audio_tokens': 0, 'reasoning_tokens': 0, 'rejected_prediction_tokens': 0}, 'prompt_tokens_details': {'audio_tokens': 0, 'cached_tokens': 0}}, 'model_name': 'gpt-4o-mini-2024-07-18', 'system_fingerprint': 'fp_54eb4bd693', 'id': 'chatcmpl-BccbKfgo05aJ93Y48gTWJZ2AoUvss', 'service_tier': 'default', 'finish_reason': 'stop', 'logprobs': None}, id='run--b3f09617-293a-4c8c-a11d-22157840f323-0', usage_metadata={'input_tokens': 138, 'output_tokens': 16, 'total_tokens': 154, 'input_token_details': {'audio': 0, 'cache_read': 0}, 'output_token_details': {'audio': 0, 'reasoning': 0}}), HumanMessage(content=\"What is today's date?\", additional_kwargs={}, response_metadata={}, id='321123a4-1a17-4865-8877-926b1705fc8e'), AIMessage(content=\"Today's date is October 8, 2023.\", additional_kwargs={'refusal': None}, response_metadata={'token_usage': {'completion_tokens': 12, 'prompt_tokens': 166, 'total_tokens': 178, 'completion_tokens_details': {'accepted_prediction_tokens': 0, 'audio_tokens': 0, 'reasoning_tokens': 0, 'rejected_prediction_tokens': 0}, 'prompt_tokens_details': {'audio_tokens': 0, 'cached_tokens': 0}}, 'model_name': 'gpt-4o-mini-2024-07-18', 'system_fingerprint': 'fp_54eb4bd693', 'id': 'chatcmpl-BccbjnpPajK6JvxnB98DahomKoLmv', 'service_tier': 'default', 'finish_reason': 'stop', 'logprobs': None}, id='run--3e9dd64d-2bd6-4207-b8a9-67ebc31e4cb4-0', usage_metadata={'input_tokens': 166, 'output_tokens': 12, 'total_tokens': 178, 'input_token_details': {'audio': 0, 'cache_read': 0}, 'output_token_details': {'audio': 0, 'reasoning': 0}}), HumanMessage(content='what is the current cad/inr exchange rates?', additional_kwargs={}, response_metadata={}, id='b18e0aaf-647f-4be4-80e5-f837fdeb36ad'), AIMessage(content='', additional_kwargs={'tool_calls': [{'id': 'call_nXJiFAQxKqoz4aCO2xIhscV3', 'function': {'arguments': '{\"__arg1\":\"current CAD to INR exchange rate\"}', 'name': 'search'}, 'type': 'function'}], 'refusal': None}, response_metadata={'token_usage': {'completion_tokens': 20, 'prompt_tokens': 195, 'total_tokens': 215, 'completion_tokens_details': {'accepted_prediction_tokens': 0, 'audio_tokens': 0, 'reasoning_tokens': 0, 'rejected_prediction_tokens': 0}, 'prompt_tokens_details': {'audio_tokens': 0, 'cached_tokens': 0}}, 'model_name': 'gpt-4o-mini-2024-07-18', 'system_fingerprint': 'fp_54eb4bd693', 'id': 'chatcmpl-BccdhrblHHcEEJ993MqBha8VzLGaA', 'service_tier': 'default', 'finish_reason': 'tool_calls', 'logprobs': None}, id='run--5f93225b-30f3-4aab-b448-7d582b904fdf-0', tool_calls=[{'name': 'search', 'args': {'__arg1': 'current CAD to INR exchange rate'}, 'id': 'call_nXJiFAQxKqoz4aCO2xIhscV3', 'type': 'tool_call'}], usage_metadata={'input_tokens': 195, 'output_tokens': 20, 'total_tokens': 215, 'input_token_details': {'audio': 0, 'cache_read': 0}, 'output_token_details': {'audio': 0, 'reasoning': 0}}), ToolMessage(content='61.91 Indian Rupee', name='search', id='ae61a116-0107-4874-ae07-d88729758c20', tool_call_id='call_nXJiFAQxKqoz4aCO2xIhscV3')]}\n",
      "\n",
      "{'messages': [HumanMessage(content=\"Hi there, what's my name?\", additional_kwargs={}, response_metadata={}, id='d7bcabf1-e12b-4d59-86d7-f802bd9d760a'), AIMessage(content=\"I don't have access to personal information about you unless you've shared it during our conversation. If you'd like me to know your name, please tell me!\", additional_kwargs={'refusal': None}, response_metadata={'token_usage': {'completion_tokens': 31, 'prompt_tokens': 95, 'total_tokens': 126, 'completion_tokens_details': {'accepted_prediction_tokens': 0, 'audio_tokens': 0, 'reasoning_tokens': 0, 'rejected_prediction_tokens': 0}, 'prompt_tokens_details': {'audio_tokens': 0, 'cached_tokens': 0}}, 'model_name': 'gpt-4o-mini-2024-07-18', 'system_fingerprint': 'fp_54eb4bd693', 'id': 'chatcmpl-BccbDQllrc2ud8toqPqyRhxbe1GVR', 'service_tier': 'default', 'finish_reason': 'stop', 'logprobs': None}, id='run--a9f0cdc1-bb59-4acd-b042-e213a0107c9c-0', usage_metadata={'input_tokens': 95, 'output_tokens': 31, 'total_tokens': 126, 'input_token_details': {'audio': 0, 'cache_read': 0}, 'output_token_details': {'audio': 0, 'reasoning': 0}}), HumanMessage(content='My name is Tej', additional_kwargs={}, response_metadata={}, id='71fd6a13-09c9-4f61-b6ab-26da76f7360a'), AIMessage(content='Nice to meet you, Tej! How can I assist you today?', additional_kwargs={'refusal': None}, response_metadata={'token_usage': {'completion_tokens': 16, 'prompt_tokens': 138, 'total_tokens': 154, 'completion_tokens_details': {'accepted_prediction_tokens': 0, 'audio_tokens': 0, 'reasoning_tokens': 0, 'rejected_prediction_tokens': 0}, 'prompt_tokens_details': {'audio_tokens': 0, 'cached_tokens': 0}}, 'model_name': 'gpt-4o-mini-2024-07-18', 'system_fingerprint': 'fp_54eb4bd693', 'id': 'chatcmpl-BccbKfgo05aJ93Y48gTWJZ2AoUvss', 'service_tier': 'default', 'finish_reason': 'stop', 'logprobs': None}, id='run--b3f09617-293a-4c8c-a11d-22157840f323-0', usage_metadata={'input_tokens': 138, 'output_tokens': 16, 'total_tokens': 154, 'input_token_details': {'audio': 0, 'cache_read': 0}, 'output_token_details': {'audio': 0, 'reasoning': 0}}), HumanMessage(content=\"What is today's date?\", additional_kwargs={}, response_metadata={}, id='321123a4-1a17-4865-8877-926b1705fc8e'), AIMessage(content=\"Today's date is October 8, 2023.\", additional_kwargs={'refusal': None}, response_metadata={'token_usage': {'completion_tokens': 12, 'prompt_tokens': 166, 'total_tokens': 178, 'completion_tokens_details': {'accepted_prediction_tokens': 0, 'audio_tokens': 0, 'reasoning_tokens': 0, 'rejected_prediction_tokens': 0}, 'prompt_tokens_details': {'audio_tokens': 0, 'cached_tokens': 0}}, 'model_name': 'gpt-4o-mini-2024-07-18', 'system_fingerprint': 'fp_54eb4bd693', 'id': 'chatcmpl-BccbjnpPajK6JvxnB98DahomKoLmv', 'service_tier': 'default', 'finish_reason': 'stop', 'logprobs': None}, id='run--3e9dd64d-2bd6-4207-b8a9-67ebc31e4cb4-0', usage_metadata={'input_tokens': 166, 'output_tokens': 12, 'total_tokens': 178, 'input_token_details': {'audio': 0, 'cache_read': 0}, 'output_token_details': {'audio': 0, 'reasoning': 0}}), HumanMessage(content='what is the current cad/inr exchange rates?', additional_kwargs={}, response_metadata={}, id='b18e0aaf-647f-4be4-80e5-f837fdeb36ad'), AIMessage(content='', additional_kwargs={'tool_calls': [{'id': 'call_nXJiFAQxKqoz4aCO2xIhscV3', 'function': {'arguments': '{\"__arg1\":\"current CAD to INR exchange rate\"}', 'name': 'search'}, 'type': 'function'}], 'refusal': None}, response_metadata={'token_usage': {'completion_tokens': 20, 'prompt_tokens': 195, 'total_tokens': 215, 'completion_tokens_details': {'accepted_prediction_tokens': 0, 'audio_tokens': 0, 'reasoning_tokens': 0, 'rejected_prediction_tokens': 0}, 'prompt_tokens_details': {'audio_tokens': 0, 'cached_tokens': 0}}, 'model_name': 'gpt-4o-mini-2024-07-18', 'system_fingerprint': 'fp_54eb4bd693', 'id': 'chatcmpl-BccdhrblHHcEEJ993MqBha8VzLGaA', 'service_tier': 'default', 'finish_reason': 'tool_calls', 'logprobs': None}, id='run--5f93225b-30f3-4aab-b448-7d582b904fdf-0', tool_calls=[{'name': 'search', 'args': {'__arg1': 'current CAD to INR exchange rate'}, 'id': 'call_nXJiFAQxKqoz4aCO2xIhscV3', 'type': 'tool_call'}], usage_metadata={'input_tokens': 195, 'output_tokens': 20, 'total_tokens': 215, 'input_token_details': {'audio': 0, 'cache_read': 0}, 'output_token_details': {'audio': 0, 'reasoning': 0}}), ToolMessage(content='61.91 Indian Rupee', name='search', id='ae61a116-0107-4874-ae07-d88729758c20', tool_call_id='call_nXJiFAQxKqoz4aCO2xIhscV3'), HumanMessage(content='what is the current cad/inr exchange rate?', additional_kwargs={}, response_metadata={}, id='2ef9b55d-8f78-423f-b9c2-2808bff54ac4'), HumanMessage(content='who is the canadian PM?', additional_kwargs={}, response_metadata={}, id='1a3f6c22-5a32-4885-a245-0f4e3ef5c63f')]}\n",
      "{'messages': [HumanMessage(content=\"Hi there, what's my name?\", additional_kwargs={}, response_metadata={}, id='d7bcabf1-e12b-4d59-86d7-f802bd9d760a'), AIMessage(content=\"I don't have access to personal information about you unless you've shared it during our conversation. If you'd like me to know your name, please tell me!\", additional_kwargs={'refusal': None}, response_metadata={'token_usage': {'completion_tokens': 31, 'prompt_tokens': 95, 'total_tokens': 126, 'completion_tokens_details': {'accepted_prediction_tokens': 0, 'audio_tokens': 0, 'reasoning_tokens': 0, 'rejected_prediction_tokens': 0}, 'prompt_tokens_details': {'audio_tokens': 0, 'cached_tokens': 0}}, 'model_name': 'gpt-4o-mini-2024-07-18', 'system_fingerprint': 'fp_54eb4bd693', 'id': 'chatcmpl-BccbDQllrc2ud8toqPqyRhxbe1GVR', 'service_tier': 'default', 'finish_reason': 'stop', 'logprobs': None}, id='run--a9f0cdc1-bb59-4acd-b042-e213a0107c9c-0', usage_metadata={'input_tokens': 95, 'output_tokens': 31, 'total_tokens': 126, 'input_token_details': {'audio': 0, 'cache_read': 0}, 'output_token_details': {'audio': 0, 'reasoning': 0}}), HumanMessage(content='My name is Tej', additional_kwargs={}, response_metadata={}, id='71fd6a13-09c9-4f61-b6ab-26da76f7360a'), AIMessage(content='Nice to meet you, Tej! How can I assist you today?', additional_kwargs={'refusal': None}, response_metadata={'token_usage': {'completion_tokens': 16, 'prompt_tokens': 138, 'total_tokens': 154, 'completion_tokens_details': {'accepted_prediction_tokens': 0, 'audio_tokens': 0, 'reasoning_tokens': 0, 'rejected_prediction_tokens': 0}, 'prompt_tokens_details': {'audio_tokens': 0, 'cached_tokens': 0}}, 'model_name': 'gpt-4o-mini-2024-07-18', 'system_fingerprint': 'fp_54eb4bd693', 'id': 'chatcmpl-BccbKfgo05aJ93Y48gTWJZ2AoUvss', 'service_tier': 'default', 'finish_reason': 'stop', 'logprobs': None}, id='run--b3f09617-293a-4c8c-a11d-22157840f323-0', usage_metadata={'input_tokens': 138, 'output_tokens': 16, 'total_tokens': 154, 'input_token_details': {'audio': 0, 'cache_read': 0}, 'output_token_details': {'audio': 0, 'reasoning': 0}}), HumanMessage(content=\"What is today's date?\", additional_kwargs={}, response_metadata={}, id='321123a4-1a17-4865-8877-926b1705fc8e'), AIMessage(content=\"Today's date is October 8, 2023.\", additional_kwargs={'refusal': None}, response_metadata={'token_usage': {'completion_tokens': 12, 'prompt_tokens': 166, 'total_tokens': 178, 'completion_tokens_details': {'accepted_prediction_tokens': 0, 'audio_tokens': 0, 'reasoning_tokens': 0, 'rejected_prediction_tokens': 0}, 'prompt_tokens_details': {'audio_tokens': 0, 'cached_tokens': 0}}, 'model_name': 'gpt-4o-mini-2024-07-18', 'system_fingerprint': 'fp_54eb4bd693', 'id': 'chatcmpl-BccbjnpPajK6JvxnB98DahomKoLmv', 'service_tier': 'default', 'finish_reason': 'stop', 'logprobs': None}, id='run--3e9dd64d-2bd6-4207-b8a9-67ebc31e4cb4-0', usage_metadata={'input_tokens': 166, 'output_tokens': 12, 'total_tokens': 178, 'input_token_details': {'audio': 0, 'cache_read': 0}, 'output_token_details': {'audio': 0, 'reasoning': 0}}), HumanMessage(content='what is the current cad/inr exchange rates?', additional_kwargs={}, response_metadata={}, id='b18e0aaf-647f-4be4-80e5-f837fdeb36ad'), AIMessage(content='', additional_kwargs={'tool_calls': [{'id': 'call_nXJiFAQxKqoz4aCO2xIhscV3', 'function': {'arguments': '{\"__arg1\":\"current CAD to INR exchange rate\"}', 'name': 'search'}, 'type': 'function'}], 'refusal': None}, response_metadata={'token_usage': {'completion_tokens': 20, 'prompt_tokens': 195, 'total_tokens': 215, 'completion_tokens_details': {'accepted_prediction_tokens': 0, 'audio_tokens': 0, 'reasoning_tokens': 0, 'rejected_prediction_tokens': 0}, 'prompt_tokens_details': {'audio_tokens': 0, 'cached_tokens': 0}}, 'model_name': 'gpt-4o-mini-2024-07-18', 'system_fingerprint': 'fp_54eb4bd693', 'id': 'chatcmpl-BccdhrblHHcEEJ993MqBha8VzLGaA', 'service_tier': 'default', 'finish_reason': 'tool_calls', 'logprobs': None}, id='run--5f93225b-30f3-4aab-b448-7d582b904fdf-0', tool_calls=[{'name': 'search', 'args': {'__arg1': 'current CAD to INR exchange rate'}, 'id': 'call_nXJiFAQxKqoz4aCO2xIhscV3', 'type': 'tool_call'}], usage_metadata={'input_tokens': 195, 'output_tokens': 20, 'total_tokens': 215, 'input_token_details': {'audio': 0, 'cache_read': 0}, 'output_token_details': {'audio': 0, 'reasoning': 0}}), ToolMessage(content='61.91 Indian Rupee', name='search', id='ae61a116-0107-4874-ae07-d88729758c20', tool_call_id='call_nXJiFAQxKqoz4aCO2xIhscV3'), HumanMessage(content='what is the current cad/inr exchange rate?', additional_kwargs={}, response_metadata={}, id='2ef9b55d-8f78-423f-b9c2-2808bff54ac4'), HumanMessage(content='who is the canadian PM?', additional_kwargs={}, response_metadata={}, id='1a3f6c22-5a32-4885-a245-0f4e3ef5c63f'), AIMessage(content='', additional_kwargs={'tool_calls': [{'id': 'call_v8wQSfbdRcdC7PG3eh01O2c8', 'function': {'arguments': '{\"__arg1\":\"current Prime Minister of Canada\"}', 'name': 'search'}, 'type': 'function'}], 'refusal': None}, response_metadata={'token_usage': {'completion_tokens': 19, 'prompt_tokens': 252, 'total_tokens': 271, 'completion_tokens_details': {'accepted_prediction_tokens': 0, 'audio_tokens': 0, 'reasoning_tokens': 0, 'rejected_prediction_tokens': 0}, 'prompt_tokens_details': {'audio_tokens': 0, 'cached_tokens': 0}}, 'model_name': 'gpt-4o-mini-2024-07-18', 'system_fingerprint': 'fp_54eb4bd693', 'id': 'chatcmpl-BccjExVPlCGDptB9uIHdCTbA4iej3', 'service_tier': 'default', 'finish_reason': 'tool_calls', 'logprobs': None}, id='run--d6c6ff07-1fcd-402f-994f-113030c6278e-0', tool_calls=[{'name': 'search', 'args': {'__arg1': 'current Prime Minister of Canada'}, 'id': 'call_v8wQSfbdRcdC7PG3eh01O2c8', 'type': 'tool_call'}], usage_metadata={'input_tokens': 252, 'output_tokens': 19, 'total_tokens': 271, 'input_token_details': {'audio': 0, 'cache_read': 0}, 'output_token_details': {'audio': 0, 'reasoning': 0}}), ToolMessage(content='Mark Carney', name='search', id='b73c914d-45a7-4c4d-aef3-93e2a452d1de', tool_call_id='call_v8wQSfbdRcdC7PG3eh01O2c8')]}\n"
     ]
    }
   ],
   "source": [
    "config = {\"configurable\": {\"thread_id\": \"5\"}}\n",
    "\n",
    "def chat(user_input: str, history):\n",
    "    result = graph.invoke({\"messages\": [{\"role\": \"user\", \"content\": user_input}]}, config=config)\n",
    "    return result[\"messages\"][-1].content\n",
    "\n",
    "\n",
    "gr.ChatInterface(chat, type=\"messages\").launch()"
   ]
  },
  {
   "cell_type": "code",
   "execution_count": null,
   "metadata": {},
   "outputs": [],
   "source": []
  }
 ],
 "metadata": {
  "kernelspec": {
   "display_name": ".venv",
   "language": "python",
   "name": "python3"
  },
  "language_info": {
   "codemirror_mode": {
    "name": "ipython",
    "version": 3
   },
   "file_extension": ".py",
   "mimetype": "text/x-python",
   "name": "python",
   "nbconvert_exporter": "python",
   "pygments_lexer": "ipython3",
   "version": "3.12.10"
  }
 },
 "nbformat": 4,
 "nbformat_minor": 2
}
